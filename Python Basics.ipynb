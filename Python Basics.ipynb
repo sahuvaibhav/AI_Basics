{
 "cells": [
  {
   "cell_type": "markdown",
   "metadata": {},
   "source": [
    "## Hello World"
   ]
  },
  {
   "cell_type": "code",
   "execution_count": 1,
   "metadata": {},
   "outputs": [
    {
     "name": "stdout",
     "output_type": "stream",
     "text": [
      "Hello World\n"
     ]
    }
   ],
   "source": [
    "print \"Hello World\""
   ]
  },
  {
   "cell_type": "code",
   "execution_count": 128,
   "metadata": {},
   "outputs": [
    {
     "name": "stdout",
     "output_type": "stream",
     "text": [
      "a:  5 and A:  10\n"
     ]
    }
   ],
   "source": [
    "# python is case sensitive\n",
    "a = 5\n",
    "A = 10\n",
    "# both a and A are different\n",
    "print \"a: \", a, \"and A: \", A"
   ]
  },
  {
   "cell_type": "markdown",
   "metadata": {},
   "source": [
    "## Number Operations"
   ]
  },
  {
   "cell_type": "code",
   "execution_count": 106,
   "metadata": {},
   "outputs": [
    {
     "name": "stdout",
     "output_type": "stream",
     "text": [
      "a+b:  15\n",
      "a-b:  -5\n",
      "a*b:  50\n",
      "a/b:  0\n",
      "a%b:  5\n",
      "a/b:  0.5\n",
      "a/b:  0.5\n",
      "a^2:  25\n"
     ]
    }
   ],
   "source": [
    "a  = 5\n",
    "b = 10\n",
    "print \"a+b: \", a+b\n",
    "print \"a-b: \", a-b\n",
    "print \"a*b: \" , a*b\n",
    "print \"a/b: \",a/b # why 0 not 0.5\n",
    "print \"a%b: \", a%b\n",
    "print \"a/b: \", a/float(b) # or\n",
    "b = 10.0\n",
    "print \"a/b: \", a/b\n",
    "print \"a^2: \", a**2"
   ]
  },
  {
   "cell_type": "markdown",
   "metadata": {},
   "source": [
    "## Lists"
   ]
  },
  {
   "cell_type": "code",
   "execution_count": 163,
   "metadata": {},
   "outputs": [
    {
     "name": "stdout",
     "output_type": "stream",
     "text": [
      "[10, 1, 'abc']\n",
      "[1, 2, 3.0, 'abc', 0.5]\n",
      "[1, 2, 3.0, 'abc', 0.5, 14]\n",
      "[1, 2, 3.0, 0.5, 14]\n",
      "[1, 2, 3.0, 0.5, 14, 10, 20, 30]\n",
      "[1, 2, 0.5, 14, 10, 20, 30]\n",
      "Length of List:  7\n",
      "Count number of 30's:  1\n",
      "index of 30:  6\n",
      "item at position 6:  30\n",
      "[1, 2, 0.5, 14, 10, 20, 30, 1, 2, 0.5, 14, 10, 20, 30]\n",
      "[1, 2, 0.5, 14, 10]\n",
      "[14, 10, 20]\n",
      "30\n",
      "[14, 10, 20, 30]\n"
     ]
    }
   ],
   "source": [
    "test = [] # initiate empty list, not necessary\n",
    "test = [a,b,\"abc\"]\n",
    "print test\n",
    "test = [1,2,3.0,\"abc\",1/2.0]\n",
    "print test\n",
    "# add new item to existing list\n",
    "c = 14\n",
    "test.append(c)\n",
    "print test\n",
    "# remove item from list\n",
    "test.remove(\"abc\")\n",
    "print test\n",
    "# extend list\n",
    "test2 = [10,20,30]\n",
    "test.extend(test2)\n",
    "print test\n",
    "# pop\n",
    "test.pop(2) # remove and return item from index\n",
    "print test\n",
    "# length of list\n",
    "print \"Length of List: \", len(test)\n",
    "# Count items\n",
    "print \"Count number of 30's: \", test.count(30)\n",
    "# Index of item\n",
    "print \"index of 30: \",  test.index(30) # in python index start from 0 not 1 so first item is always at position 0 not 1\n",
    "# print a list item by index\n",
    "print \"item at position 6: \", test[6]\n",
    "# multiply a list - \n",
    "print test*2\n",
    "# List subsetting\n",
    "print test[:5] # Print list elements from start to 5 th position\n",
    "print test[3:6] # 3rd to 6th element\n",
    "print test[-1] # use -1 to get last element\n",
    "print test[-4:] # you can subset from back"
   ]
  },
  {
   "cell_type": "markdown",
   "metadata": {},
   "source": [
    "## Strings"
   ]
  },
  {
   "cell_type": "code",
   "execution_count": 61,
   "metadata": {},
   "outputs": [
    {
     "name": "stdout",
     "output_type": "stream",
     "text": [
      "abc\n",
      "abcdefdefdef\n",
      "5\n",
      "555\n",
      "Abcdefdefdef\n",
      "ABCDEFDEFDEF\n",
      "abcdefdefdef\n",
      "3\n",
      "0\n",
      "5\n",
      "abcxyzxyzxyz\n",
      "['abc', 'ef', 'ef', 'ef']\n"
     ]
    }
   ],
   "source": [
    "# lets creat a string \n",
    "s = \"abc\" # s is an string\n",
    "print s\n",
    "# or something else\n",
    "s = s + \"def\"*3\n",
    "print s\n",
    "# convert a number to string\n",
    "str_a = str(a)\n",
    "print str_a\n",
    "print str_a*3 # maths operations on string are different\n",
    "# lets try to add a number to string\n",
    "#print str_a +5 # this will give you error\n",
    "# convert string to list by each caracter\n",
    "list(s)\n",
    "# string operations\n",
    "print s.capitalize()\n",
    "print s.upper()\n",
    "print s.lower()\n",
    "print s.count('def')\n",
    "print s.count(\"df\")\n",
    "print s.find(\"f\")\n",
    "print s.replace(\"def\",\"xyz\") # to replace s = s.replace(\"def\",\"xyz)\n",
    "print s.split(\"d\") # return a list with strings separated by \"d\""
   ]
  },
  {
   "cell_type": "markdown",
   "metadata": {},
   "source": [
    "## If ....Else\n",
    "Python is indentation specific language. Note the indentation below in if..else and for loops. if indentations are not proper it results in indentation error."
   ]
  },
  {
   "cell_type": "code",
   "execution_count": 130,
   "metadata": {},
   "outputs": [
    {
     "name": "stdout",
     "output_type": "stream",
     "text": [
      "a is greater than b\n",
      "bad\n"
     ]
    }
   ],
   "source": [
    "a = 10; b = 1\n",
    "if a == b:\n",
    "    print \"a is equal to b\"\n",
    "elif a>b :\n",
    "    print \"a is greater than b\"\n",
    "elif a<b:\n",
    "    print \"a is less than b\"\n",
    "else:\n",
    "    print \"what can i say!\"\n",
    "    \n",
    "# chack what happens when two conditions are met from the given try it!\n",
    "\n",
    "# shorthand\n",
    "if a==b: print \"equal\"\n",
    "num = 20 if a==b else \"bad\"\n",
    "print num"
   ]
  },
  {
   "cell_type": "markdown",
   "metadata": {},
   "source": [
    "## For Loop\n",
    "Notice Indents"
   ]
  },
  {
   "cell_type": "code",
   "execution_count": 125,
   "metadata": {},
   "outputs": [
    {
     "name": "stdout",
     "output_type": "stream",
     "text": [
      "test has:  1\n",
      "test has:  2\n",
      "test has:  0.5\n",
      "test has:  14\n",
      "test has:  10\n",
      "test has:  20\n",
      "test has:  30\n",
      "[0.5, 1.0, 0.25, 7.0, 5.0, 10.0, 15.0]\n",
      "[99, 99, 99, 100, 100, 100, 100]\n"
     ]
    },
    {
     "data": {
      "text/plain": [
       "[100, 100, 100, 99, 99, 99, 99]"
      ]
     },
     "execution_count": 125,
     "metadata": {},
     "output_type": "execute_result"
    }
   ],
   "source": [
    "# Remeber our list test\n",
    "for i in test:\n",
    "    print \"test has: \", i\n",
    "    \n",
    "# short hand\n",
    "test_2 = [i/2. for i in test] # double every element of list\n",
    "print test_2\n",
    "\n",
    "# misxing for loop and if else ....\n",
    "for j in test_2:\n",
    "    if j >1:\n",
    "        test_2[test_2.index(j)]= 100\n",
    "    else:\n",
    "        test_2[test_2.index(j)]=99\n",
    "\n",
    "print test_2\n",
    "# or \n",
    "\n",
    "[100 if test_2[test_2.index(j)]==99 else 99 for j in test_2 ]"
   ]
  },
  {
   "cell_type": "markdown",
   "metadata": {},
   "source": [
    "## Defining Functions\n",
    "Notice Indents"
   ]
  },
  {
   "cell_type": "code",
   "execution_count": 134,
   "metadata": {},
   "outputs": [
    {
     "name": "stdout",
     "output_type": "stream",
     "text": [
      "Hello First!\n",
      "I am second\n",
      "a+b:  102\n",
      "a-b:  -98\n",
      "a*b:  200\n",
      "a/b:  0\n",
      "a%b:  2\n",
      "a/b:  0.02\n",
      "a/b:  0.2\n",
      "a^2:  4\n"
     ]
    }
   ],
   "source": [
    "def first():\n",
    "   # No argument passed\n",
    "    print \"Hello First!\"\n",
    "\n",
    "first()\n",
    "\n",
    "def second(to_print):\n",
    "    print to_print\n",
    "    \n",
    "second(\"I am second\")\n",
    "\n",
    "def ops(a,b):\n",
    "    print \"a+b: \", a+b\n",
    "    print \"a-b: \", a-b\n",
    "    print \"a*b: \" , a*b\n",
    "    print \"a/b: \",a/b # why 0 not 0.5\n",
    "    print \"a%b: \", a%b\n",
    "    print \"a/b: \", a/float(b) # or\n",
    "    b = 10.0\n",
    "    print \"a/b: \", a/b\n",
    "    print \"a^2: \", a**2\n",
    "    \n",
    "ops(2,100)"
   ]
  },
  {
   "cell_type": "markdown",
   "metadata": {},
   "source": [
    "## File Operations"
   ]
  },
  {
   "cell_type": "code",
   "execution_count": 173,
   "metadata": {},
   "outputs": [
    {
     "name": "stdout",
     "output_type": "stream",
     "text": [
      " ﻿The Project Gutenberg EBook of Pride and Prejudice, by Jane Austen\n",
      "\n",
      "﻿The\n",
      "Project\n",
      "Gutenberg\n",
      "EBook\n",
      "of\n",
      "Pride\n",
      "and\n",
      "Prejudice,\n",
      "by\n",
      "Jane\n",
      "Austen\n",
      "\n",
      "This\n",
      "eBook\n",
      "is\n",
      "for\n",
      "the\n",
      "use\n",
      "of\n",
      "anyone\n",
      "anywhere\n",
      "at\n",
      "no\n",
      "cost\n",
      "and\n",
      "with\n",
      "almost\n",
      "no\n",
      "restrictions\n",
      "whatsoever.\n",
      "\n",
      "You\n",
      "may\n",
      "copy\n",
      "it,\n",
      "give\n",
      "it\n",
      "away\n",
      "or\n",
      "re-use\n",
      "it\n",
      "under\n",
      "the\n",
      "terms\n",
      "of\n",
      "the\n",
      "Project\n",
      "Gutenberg\n",
      "License\n",
      "included\n",
      "with\n",
      "this\n",
      "eBook\n",
      "or\n",
      "online\n",
      "at\n",
      "www.gutenberg.org\n",
      "\n",
      "\n",
      "Title:\n",
      "Pride\n",
      "and\n",
      "Prejudice\n",
      "\n",
      "Author:\n",
      "Jane\n",
      "Austen\n",
      "\n",
      "Posting\n",
      "Date:\n",
      "August\n",
      "26,\n",
      "2008\n",
      "[EBook\n",
      "#1342]\n",
      "Release\n",
      "Date:\n",
      "June,\n",
      "1998\n",
      "Last\n",
      "Updated:\n",
      "October\n",
      "17,\n",
      "2016\n",
      "\n",
      "Language:\n",
      "English\n",
      "\n",
      "Character\n",
      "set\n",
      "encoding:\n",
      "UTF-8\n",
      "\n",
      "***\n",
      "START\n",
      "OF\n",
      "THIS\n",
      "PROJECT\n",
      "GUTENBERG\n",
      "EBOOK\n",
      "PRIDE\n",
      "AND\n",
      "PREJUDICE\n",
      "***\n",
      "\n",
      "\n",
      "\n",
      "\n",
      "Produced\n",
      "by\n",
      "Anonymous\n",
      "Volunteers\n",
      "\n",
      "\n",
      "\n",
      "\n",
      "\n",
      "PRIDE\n",
      "AND\n",
      "PREJUDICE\n",
      "\n",
      "By\n",
      "Jane\n",
      "Austen\n",
      "\n",
      "\n",
      "\n",
      "Chapter\n",
      "1\n",
      "\n",
      "\n",
      "It\n",
      "is\n",
      "a\n",
      "truth\n",
      "universally\n",
      "acknowledged,\n",
      "that\n",
      "a\n",
      "single\n"
     ]
    }
   ],
   "source": [
    "pnp = open(\"pride_prejudice.txt\")\n",
    "print pnp.readline()\n",
    "# print pnp.readlines(3)\n",
    "\n",
    "# for line in pnp:\n",
    "#     print line\n",
    "pnp.close() # closing a file is mandatory\n",
    "\n",
    "# to bypass need explicit closing of file\n",
    "with open(\"pride_prejudice.txt\") as text:\n",
    "    data = text.read()\n",
    "# automatically closes the file after with statement\n",
    "#print data\n",
    "#print words from file \n",
    "for word in data.split(\" \")[:100]:\n",
    "    print word\n",
    "    \n",
    "## Write to file\n",
    "with open(\"myFile.txt\",'w') as f:\n",
    "    f.write(\"my name is vaibhav.\")\n",
    "    \n"
   ]
  },
  {
   "cell_type": "markdown",
   "metadata": {},
   "source": [
    "## Assignment : 1\n",
    "Read the file pride_prejudice.txt into a variable. \n",
    "1. Create a list of all the unique words from the file.\n",
    "2. Print number of unique words in the file.\n",
    "3. Create a list of lists with count of each word in the whole file. For example\n",
    "    [['a',10000],\n",
    "     ['the', 23000],\n",
    "     ['truth',1000]\n",
    "     .......\n",
    "     ]\n",
    "4. Make sure you lower every word before finding unique and counting. For python \"The\" is different word than \"the\". Be careful. "
   ]
  },
  {
   "cell_type": "markdown",
   "metadata": {},
   "source": [
    "## Libraries\n",
    "The above operations and functions are basic functionalities of python. They come in basic python. But for special operations we need to import libraries. For example for dataframe operations we have to import **pandas** library. For many machine learning algorithms we have to import **sklearn** library (Official Name: scikit-learn).\n",
    "\n",
    "We will work on pandas today.\n",
    "\n",
    "pandas library is a famous and very handy library to handle Dataframe operations. Dataframe is an structured table of colums and rows. Lets see!"
   ]
  },
  {
   "cell_type": "code",
   "execution_count": 175,
   "metadata": {},
   "outputs": [
    {
     "name": "stdout",
     "output_type": "stream",
     "text": [
      "    year month        sales\n",
      "0   2014   Jan  2296.159055\n",
      "1   2014   Feb  2517.850145\n",
      "2   2014   Mar  2767.250322\n",
      "3   2014   Apr  2678.434712\n",
      "4   2014   May  2387.231962\n",
      "5   2014   Jun  2626.109731\n",
      "6   2014   Jul  2952.867989\n",
      "7   2014   Aug  2137.858799\n",
      "8   2014   Sep  2331.783669\n",
      "9   2014   Oct  2457.271412\n",
      "10  2014   Nov  2126.593010\n",
      "11  2014   Dec  2221.375195\n",
      "12  2015   Jan  2676.017726\n",
      "13  2015   Feb  3922.541776\n",
      "14  2015   Mar  3410.706185\n",
      "15  2015   Apr  2307.675349\n",
      "16  2015   May  3704.415026\n",
      "17  2015   Jun  3727.155949\n",
      "18  2015   Jul  2350.842217\n",
      "19  2015   Aug  3100.233043\n",
      "20  2015   Sep  2326.707937\n",
      "21  2015   Oct  2936.318156\n",
      "22  2015   Nov  3084.596089\n",
      "23  2015   Dec  3838.740613\n"
     ]
    }
   ],
   "source": [
    "import pandas as pd\n",
    "\n",
    "# read a csv file\n",
    "data = pd.read_csv(\"test_data.csv\")\n",
    "print data"
   ]
  },
  {
   "cell_type": "code",
   "execution_count": 181,
   "metadata": {},
   "outputs": [
    {
     "name": "stdout",
     "output_type": "stream",
     "text": [
      "***head*** \n",
      "   year month        sales\n",
      "0  2014   Jan  2296.159055\n",
      "1  2014   Feb  2517.850145\n",
      "2  2014   Mar  2767.250322\n",
      "3  2014   Apr  2678.434712\n",
      "4  2014   May  2387.231962\n",
      "5  2014   Jun  2626.109731\n",
      "6  2014   Jul  2952.867989\n",
      "7  2014   Aug  2137.858799\n",
      "8  2014   Sep  2331.783669\n",
      "9  2014   Oct  2457.271412\n",
      "\n",
      "***tail*** \n",
      "    year month        sales\n",
      "22  2015   Nov  3084.596089\n",
      "23  2015   Dec  3838.740613\n",
      "\n",
      "***data description*** \n",
      "              year        sales\n",
      "count    24.000000    24.000000\n",
      "mean   2014.500000  2786.947336\n",
      "std       0.510754   567.046637\n",
      "min    2014.000000  2126.593010\n",
      "25%    2014.000000  2330.514736\n",
      "50%    2014.500000  2651.063729\n",
      "75%    2015.000000  3088.505328\n",
      "max    2015.000000  3922.541776\n"
     ]
    }
   ],
   "source": [
    "print \"***head*** \\n\",data.head(10)\n",
    "print \"\\n***tail*** \\n\",data.tail(2)\n",
    "print \"\\n***data description*** \\n\",data.describe()"
   ]
  },
  {
   "cell_type": "code",
   "execution_count": 192,
   "metadata": {},
   "outputs": [
    {
     "data": {
      "text/plain": [
       "<matplotlib.axes._subplots.AxesSubplot at 0xbedcba8>"
      ]
     },
     "execution_count": 192,
     "metadata": {},
     "output_type": "execute_result"
    },
    {
     "data": {
      "image/png": "[encoded data removed]",
      "text/plain": [
       "<matplotlib.figure.Figure at 0xbea92e8>"
      ]
     },
     "metadata": {},
     "output_type": "display_data"
    }
   ],
   "source": [
    "%matplotlib inline\n",
    "data.plot.bar(x='month',y='sales')"
   ]
  }
 ],
 "metadata": {
  "kernelspec": {
   "display_name": "Python [default]",
   "language": "python",
   "name": "python2"
  },
  "language_info": {
   "codemirror_mode": {
    "name": "ipython",
    "version": 2
   },
   "file_extension": ".py",
   "mimetype": "text/x-python",
   "name": "python",
   "nbconvert_exporter": "python",
   "pygments_lexer": "ipython2",
   "version": "2.7.13"
  }
 },
 "nbformat": 4,
 "nbformat_minor": 2
}
