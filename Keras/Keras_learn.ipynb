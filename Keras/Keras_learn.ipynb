{
 "cells": [
  {
   "cell_type": "code",
   "execution_count": 1,
   "metadata": {},
   "outputs": [
    {
     "name": "stderr",
     "output_type": "stream",
     "text": [
      "Using TensorFlow backend.\n"
     ]
    }
   ],
   "source": [
    "from keras.models import Sequential\n",
    "from keras.layers import Dense, Activation, Dropout\n",
    "import numpy as np\n",
    "from keras.optimizers import SGD"
   ]
  },
  {
   "cell_type": "code",
   "execution_count": 2,
   "metadata": {},
   "outputs": [
    {
     "name": "stdout",
     "output_type": "stream",
     "text": [
      "_________________________________________________________________\n",
      "Layer (type)                 Output Shape              Param #   \n",
      "=================================================================\n",
      "dense_1 (Dense)              (None, 32)                3232      \n",
      "_________________________________________________________________\n",
      "dense_2 (Dense)              (None, 1)                 33        \n",
      "=================================================================\n",
      "Total params: 3,265.0\n",
      "Trainable params: 3,265\n",
      "Non-trainable params: 0.0\n",
      "_________________________________________________________________\n"
     ]
    }
   ],
   "source": [
    "model = Sequential()\n",
    "model.add(Dense(32, activation='relu',input_dim=100))\n",
    "model.add(Dense(1,activation='sigmoid'))\n",
    "model.compile(optimizer=\"rmsprop\",loss=\"binary_crossentropy\",metrics=['accuracy'])\n",
    "model.summary()"
   ]
  },
  {
   "cell_type": "code",
   "execution_count": 3,
   "metadata": {},
   "outputs": [],
   "source": [
    "data = np.random.random((1000,100))\n",
    "labels = np.random.randint(2,size=(1000,1))"
   ]
  },
  {
   "cell_type": "code",
   "execution_count": 4,
   "metadata": {},
   "outputs": [
    {
     "name": "stdout",
     "output_type": "stream",
     "text": [
      "Epoch 1/10\n",
      "1000/1000 [==============================] - 0s - loss: 0.7104 - acc: 0.4780     \n",
      "Epoch 2/10\n",
      "1000/1000 [==============================] - 0s - loss: 0.7027 - acc: 0.4910     \n",
      "Epoch 3/10\n",
      "1000/1000 [==============================] - 0s - loss: 0.6911 - acc: 0.5210     \n",
      "Epoch 4/10\n",
      "1000/1000 [==============================] - 0s - loss: 0.6864 - acc: 0.5440     \n",
      "Epoch 5/10\n",
      "1000/1000 [==============================] - 0s - loss: 0.6828 - acc: 0.5660     \n",
      "Epoch 6/10\n",
      "1000/1000 [==============================] - 0s - loss: 0.6764 - acc: 0.5740     \n",
      "Epoch 7/10\n",
      "1000/1000 [==============================] - 0s - loss: 0.6726 - acc: 0.5810     \n",
      "Epoch 8/10\n",
      "1000/1000 [==============================] - 0s - loss: 0.6712 - acc: 0.5790     \n",
      "Epoch 9/10\n",
      "1000/1000 [==============================] - 0s - loss: 0.6664 - acc: 0.5930     \n",
      "Epoch 10/10\n",
      "1000/1000 [==============================] - 0s - loss: 0.6590 - acc: 0.6140     \n"
     ]
    },
    {
     "data": {
      "text/plain": [
       "<keras.callbacks.History at 0x13910938a90>"
      ]
     },
     "execution_count": 4,
     "metadata": {},
     "output_type": "execute_result"
    }
   ],
   "source": [
    "model.fit(data,labels,epochs=10,batch_size=32)"
   ]
  },
  {
   "cell_type": "markdown",
   "metadata": {},
   "source": [
    "## Multilayer Perceptron (MLP) for multi-class softmax classification:"
   ]
  },
  {
   "cell_type": "code",
   "execution_count": 17,
   "metadata": {},
   "outputs": [
    {
     "name": "stdout",
     "output_type": "stream",
     "text": [
      "_________________________________________________________________\n",
      "Layer (type)                 Output Shape              Param #   \n",
      "=================================================================\n",
      "dense_17 (Dense)             (None, 64)                1344      \n",
      "_________________________________________________________________\n",
      "dropout_9 (Dropout)          (None, 64)                0         \n",
      "_________________________________________________________________\n",
      "dense_18 (Dense)             (None, 64)                4160      \n",
      "_________________________________________________________________\n",
      "dropout_10 (Dropout)         (None, 64)                0         \n",
      "_________________________________________________________________\n",
      "dense_19 (Dense)             (None, 10)                650       \n",
      "=================================================================\n",
      "Total params: 6,154\n",
      "Trainable params: 6,154\n",
      "Non-trainable params: 0\n",
      "_________________________________________________________________\n",
      "Epoch 1/100\n",
      "1000/1000 [==============================] - 0s - loss: 2.3770 - acc: 0.1050     \n",
      "Epoch 2/100\n",
      "1000/1000 [==============================] - 0s - loss: 2.3184 - acc: 0.0960   \n",
      "Epoch 3/100\n",
      "1000/1000 [==============================] - 0s - loss: 2.3069 - acc: 0.1030   \n",
      "Epoch 4/100\n",
      "1000/1000 [==============================] - 0s - loss: 2.3000 - acc: 0.1170   \n",
      "Epoch 5/100\n",
      "1000/1000 [==============================] - 0s - loss: 2.3006 - acc: 0.1190   \n",
      "Epoch 6/100\n",
      "1000/1000 [==============================] - 0s - loss: 2.2967 - acc: 0.1200   \n",
      "Epoch 7/100\n",
      "1000/1000 [==============================] - 0s - loss: 2.2980 - acc: 0.1320   \n",
      "Epoch 8/100\n",
      "1000/1000 [==============================] - 0s - loss: 2.2974 - acc: 0.0930   \n",
      "Epoch 9/100\n",
      "1000/1000 [==============================] - 0s - loss: 2.2994 - acc: 0.1070   \n",
      "Epoch 10/100\n",
      "1000/1000 [==============================] - 0s - loss: 2.2913 - acc: 0.1110   \n",
      "Epoch 11/100\n",
      "1000/1000 [==============================] - 0s - loss: 2.2912 - acc: 0.1140   \n",
      "Epoch 12/100\n",
      "1000/1000 [==============================] - 0s - loss: 2.2974 - acc: 0.1140   \n",
      "Epoch 13/100\n",
      "1000/1000 [==============================] - 0s - loss: 2.2948 - acc: 0.1160   \n",
      "Epoch 14/100\n",
      "1000/1000 [==============================] - 0s - loss: 2.2950 - acc: 0.1280   \n",
      "Epoch 15/100\n",
      "1000/1000 [==============================] - 0s - loss: 2.2878 - acc: 0.1410   \n",
      "Epoch 16/100\n",
      "1000/1000 [==============================] - 0s - loss: 2.2901 - acc: 0.1230   \n",
      "Epoch 17/100\n",
      "1000/1000 [==============================] - 0s - loss: 2.2904 - acc: 0.1050   \n",
      "Epoch 18/100\n",
      "1000/1000 [==============================] - 0s - loss: 2.2905 - acc: 0.1320   \n",
      "Epoch 19/100\n",
      "1000/1000 [==============================] - 0s - loss: 2.2904 - acc: 0.1350   \n",
      "Epoch 20/100\n",
      "1000/1000 [==============================] - 0s - loss: 2.2888 - acc: 0.1190   \n",
      "Epoch 21/100\n",
      "1000/1000 [==============================] - 0s - loss: 2.2840 - acc: 0.1380   \n",
      "Epoch 22/100\n",
      "1000/1000 [==============================] - 0s - loss: 2.2872 - acc: 0.1330   \n",
      "Epoch 23/100\n",
      "1000/1000 [==============================] - 0s - loss: 2.2839 - acc: 0.1330   \n",
      "Epoch 24/100\n",
      "1000/1000 [==============================] - 0s - loss: 2.2827 - acc: 0.1370   \n",
      "Epoch 25/100\n",
      "1000/1000 [==============================] - 0s - loss: 2.2789 - acc: 0.1540   \n",
      "Epoch 26/100\n",
      "1000/1000 [==============================] - 0s - loss: 2.2784 - acc: 0.1310   \n",
      "Epoch 27/100\n",
      "1000/1000 [==============================] - 0s - loss: 2.2748 - acc: 0.1340   \n",
      "Epoch 28/100\n",
      "1000/1000 [==============================] - 0s - loss: 2.2821 - acc: 0.1220   \n",
      "Epoch 29/100\n",
      "1000/1000 [==============================] - 0s - loss: 2.2743 - acc: 0.1440   \n",
      "Epoch 30/100\n",
      "1000/1000 [==============================] - 0s - loss: 2.2832 - acc: 0.1200   \n",
      "Epoch 31/100\n",
      "1000/1000 [==============================] - 0s - loss: 2.2771 - acc: 0.1400   \n",
      "Epoch 32/100\n",
      "1000/1000 [==============================] - 0s - loss: 2.2813 - acc: 0.1350   \n",
      "Epoch 33/100\n",
      "1000/1000 [==============================] - 0s - loss: 2.2723 - acc: 0.1540   \n",
      "Epoch 34/100\n",
      "1000/1000 [==============================] - 0s - loss: 2.2774 - acc: 0.1380   \n",
      "Epoch 35/100\n",
      "1000/1000 [==============================] - 0s - loss: 2.2690 - acc: 0.1360   \n",
      "Epoch 36/100\n",
      "1000/1000 [==============================] - 0s - loss: 2.2708 - acc: 0.1340   \n",
      "Epoch 37/100\n",
      "1000/1000 [==============================] - 0s - loss: 2.2739 - acc: 0.1420   \n",
      "Epoch 38/100\n",
      "1000/1000 [==============================] - 0s - loss: 2.2704 - acc: 0.1450   \n",
      "Epoch 39/100\n",
      "1000/1000 [==============================] - 0s - loss: 2.2679 - acc: 0.1530   \n",
      "Epoch 40/100\n",
      "1000/1000 [==============================] - 0s - loss: 2.2795 - acc: 0.1350   \n",
      "Epoch 41/100\n",
      "1000/1000 [==============================] - 0s - loss: 2.2657 - acc: 0.1590   \n",
      "Epoch 42/100\n",
      "1000/1000 [==============================] - 0s - loss: 2.2623 - acc: 0.1570   \n",
      "Epoch 43/100\n",
      "1000/1000 [==============================] - 0s - loss: 2.2730 - acc: 0.1620   \n",
      "Epoch 44/100\n",
      "1000/1000 [==============================] - 0s - loss: 2.2631 - acc: 0.1470   \n",
      "Epoch 45/100\n",
      "1000/1000 [==============================] - 0s - loss: 2.2617 - acc: 0.1690   \n",
      "Epoch 46/100\n",
      "1000/1000 [==============================] - 0s - loss: 2.2621 - acc: 0.1400   \n",
      "Epoch 47/100\n",
      "1000/1000 [==============================] - 0s - loss: 2.2628 - acc: 0.1540   \n",
      "Epoch 48/100\n",
      "1000/1000 [==============================] - 0s - loss: 2.2533 - acc: 0.1590   \n",
      "Epoch 49/100\n",
      "1000/1000 [==============================] - 0s - loss: 2.2646 - acc: 0.1580   \n",
      "Epoch 50/100\n",
      "1000/1000 [==============================] - 0s - loss: 2.2656 - acc: 0.1570   \n",
      "Epoch 51/100\n",
      "1000/1000 [==============================] - 0s - loss: 2.2587 - acc: 0.1460   \n",
      "Epoch 52/100\n",
      "1000/1000 [==============================] - 0s - loss: 2.2524 - acc: 0.1560   \n",
      "Epoch 53/100\n",
      "1000/1000 [==============================] - 0s - loss: 2.2534 - acc: 0.1520   \n",
      "Epoch 54/100\n",
      "1000/1000 [==============================] - 0s - loss: 2.2518 - acc: 0.1440   \n",
      "Epoch 55/100\n",
      "1000/1000 [==============================] - 0s - loss: 2.2454 - acc: 0.1540   \n",
      "Epoch 56/100\n",
      "1000/1000 [==============================] - 0s - loss: 2.2520 - acc: 0.1560   \n",
      "Epoch 57/100\n",
      "1000/1000 [==============================] - 0s - loss: 2.2606 - acc: 0.1510   \n",
      "Epoch 58/100\n",
      "1000/1000 [==============================] - 0s - loss: 2.2658 - acc: 0.1370   \n",
      "Epoch 59/100\n",
      "1000/1000 [==============================] - 0s - loss: 2.2593 - acc: 0.1590   \n",
      "Epoch 60/100\n",
      "1000/1000 [==============================] - 0s - loss: 2.2488 - acc: 0.1570   \n",
      "Epoch 61/100\n",
      "1000/1000 [==============================] - 0s - loss: 2.2373 - acc: 0.1740   \n",
      "Epoch 62/100\n",
      "1000/1000 [==============================] - 0s - loss: 2.2440 - acc: 0.1740    \n",
      "Epoch 63/100\n",
      "1000/1000 [==============================] - 0s - loss: 2.2366 - acc: 0.1780    \n",
      "Epoch 64/100\n",
      "1000/1000 [==============================] - 0s - loss: 2.2406 - acc: 0.1710   \n",
      "Epoch 65/100\n",
      "1000/1000 [==============================] - 0s - loss: 2.2454 - acc: 0.1450    \n",
      "Epoch 66/100\n",
      "1000/1000 [==============================] - 0s - loss: 2.2303 - acc: 0.1660   \n",
      "Epoch 67/100\n",
      "1000/1000 [==============================] - 0s - loss: 2.2423 - acc: 0.1630   \n",
      "Epoch 68/100\n",
      "1000/1000 [==============================] - 0s - loss: 2.2421 - acc: 0.1580    \n",
      "Epoch 69/100\n",
      "1000/1000 [==============================] - 0s - loss: 2.2432 - acc: 0.1680   \n",
      "Epoch 70/100\n",
      "1000/1000 [==============================] - 0s - loss: 2.2416 - acc: 0.1690   \n",
      "Epoch 71/100\n",
      "1000/1000 [==============================] - 0s - loss: 2.2345 - acc: 0.1660   \n",
      "Epoch 72/100\n",
      "1000/1000 [==============================] - 0s - loss: 2.2446 - acc: 0.1560   \n",
      "Epoch 73/100\n",
      "1000/1000 [==============================] - 0s - loss: 2.2383 - acc: 0.1610   \n",
      "Epoch 74/100\n",
      "1000/1000 [==============================] - 0s - loss: 2.2287 - acc: 0.1980   \n",
      "Epoch 75/100\n",
      "1000/1000 [==============================] - 0s - loss: 2.2205 - acc: 0.1830   \n",
      "Epoch 76/100\n",
      "1000/1000 [==============================] - 0s - loss: 2.2295 - acc: 0.1760   \n",
      "Epoch 77/100\n",
      "1000/1000 [==============================] - 0s - loss: 2.2358 - acc: 0.1640   \n",
      "Epoch 78/100\n",
      "1000/1000 [==============================] - 0s - loss: 2.2236 - acc: 0.1750   \n",
      "Epoch 79/100\n",
      "1000/1000 [==============================] - 0s - loss: 2.2158 - acc: 0.1860   \n",
      "Epoch 80/100\n",
      "1000/1000 [==============================] - 0s - loss: 2.2284 - acc: 0.1810   \n",
      "Epoch 81/100\n",
      "1000/1000 [==============================] - 0s - loss: 2.2096 - acc: 0.1910   \n",
      "Epoch 82/100\n",
      "1000/1000 [==============================] - 0s - loss: 2.2260 - acc: 0.1740   \n",
      "Epoch 83/100\n",
      "1000/1000 [==============================] - 0s - loss: 2.2276 - acc: 0.1690   \n",
      "Epoch 84/100\n",
      "1000/1000 [==============================] - 0s - loss: 2.2219 - acc: 0.1770   \n",
      "Epoch 85/100\n",
      "1000/1000 [==============================] - 0s - loss: 2.2206 - acc: 0.1810   \n",
      "Epoch 86/100\n",
      "1000/1000 [==============================] - 0s - loss: 2.2330 - acc: 0.1880   \n",
      "Epoch 87/100\n",
      "1000/1000 [==============================] - 0s - loss: 2.2306 - acc: 0.1810   \n",
      "Epoch 88/100\n",
      "1000/1000 [==============================] - 0s - loss: 2.2199 - acc: 0.1820   \n",
      "Epoch 89/100\n",
      "1000/1000 [==============================] - 0s - loss: 2.2213 - acc: 0.1760   \n",
      "Epoch 90/100\n",
      "1000/1000 [==============================] - 0s - loss: 2.2063 - acc: 0.1850   \n",
      "Epoch 91/100\n",
      "1000/1000 [==============================] - 0s - loss: 2.2036 - acc: 0.1800   \n",
      "Epoch 92/100\n",
      "1000/1000 [==============================] - 0s - loss: 2.2114 - acc: 0.1790   \n",
      "Epoch 93/100\n",
      "1000/1000 [==============================] - 0s - loss: 2.2099 - acc: 0.1860   \n",
      "Epoch 94/100\n",
      "1000/1000 [==============================] - 0s - loss: 2.2032 - acc: 0.1870   \n",
      "Epoch 95/100\n",
      "1000/1000 [==============================] - 0s - loss: 2.1994 - acc: 0.1780   \n",
      "Epoch 96/100\n",
      "1000/1000 [==============================] - 0s - loss: 2.2356 - acc: 0.1720   \n",
      "Epoch 97/100\n",
      "1000/1000 [==============================] - 0s - loss: 2.2063 - acc: 0.2030   \n",
      "Epoch 98/100\n",
      "1000/1000 [==============================] - 0s - loss: 2.2086 - acc: 0.1770   \n",
      "Epoch 99/100\n",
      "1000/1000 [==============================] - 0s - loss: 2.2016 - acc: 0.1900   \n",
      "Epoch 100/100\n",
      "1000/1000 [==============================] - 0s - loss: 2.2124 - acc: 0.1820   \n",
      " 32/100 [========>.....................] - ETA: 0s[2.3369941902160645, 0.089999999999999997]\n"
     ]
    }
   ],
   "source": [
    "x_train = np.random.random((1000,20))\n",
    "y_train = keras.utils.to_categorical(np.random.randint(10,size=(1000,1)),num_classes=10)\n",
    "x_test = np.random.random((100,20))\n",
    "y_test = keras.utils.to_categorical(np.random.randint(10,size=(100,1)),num_classes=10)\n",
    "\n",
    "model = Sequential()\n",
    "model.add(Dense(64,activation=\"relu\",input_dim=20))\n",
    "model.add(Dropout(0.5))\n",
    "model.add(Dense(64,activation=\"relu\"))\n",
    "model.add(Dropout(0.5))\n",
    "model.add(Dense(10,activation=\"softmax\"))\n",
    "\n",
    "sgd=SGD(lr=0.01,momentum=0.9,decay=1e-6,nesterov=True)\n",
    "model.compile(optimizer=sgd,loss=\"categorical_crossentropy\",metrics=['accuracy'])\n",
    "model.summary()\n",
    "\n",
    "model.fit(x_train,y_train,epochs=100,batch_size=32)\n",
    "score=model.evaluate(x_test,y_test,batch_size=32)\n",
    "print(score)"
   ]
  },
  {
   "cell_type": "markdown",
   "metadata": {},
   "source": [
    "## MLP for binary classification:"
   ]
  },
  {
   "cell_type": "code",
   "execution_count": 18,
   "metadata": {},
   "outputs": [
    {
     "name": "stdout",
     "output_type": "stream",
     "text": [
      "Epoch 1/20\n",
      "1000/1000 [==============================] - 0s - loss: 0.7067 - acc: 0.5100    \n",
      "Epoch 2/20\n",
      "1000/1000 [==============================] - 0s - loss: 0.7145 - acc: 0.5000    \n",
      "Epoch 3/20\n",
      "1000/1000 [==============================] - 0s - loss: 0.7010 - acc: 0.5270    \n",
      "Epoch 4/20\n",
      "1000/1000 [==============================] - 0s - loss: 0.6964 - acc: 0.5400    \n",
      "Epoch 5/20\n",
      "1000/1000 [==============================] - 0s - loss: 0.7030 - acc: 0.5050    \n",
      "Epoch 6/20\n",
      "1000/1000 [==============================] - 0s - loss: 0.6958 - acc: 0.5320    \n",
      "Epoch 7/20\n",
      "1000/1000 [==============================] - 0s - loss: 0.6940 - acc: 0.5460    \n",
      "Epoch 8/20\n",
      "1000/1000 [==============================] - 0s - loss: 0.6973 - acc: 0.4950    \n",
      "Epoch 9/20\n",
      "1000/1000 [==============================] - 0s - loss: 0.6949 - acc: 0.5260    \n",
      "Epoch 10/20\n",
      "1000/1000 [==============================] - 0s - loss: 0.6971 - acc: 0.5120    \n",
      "Epoch 11/20\n",
      "1000/1000 [==============================] - 0s - loss: 0.6964 - acc: 0.5130    \n",
      "Epoch 12/20\n",
      "1000/1000 [==============================] - 0s - loss: 0.6933 - acc: 0.5300    \n",
      "Epoch 13/20\n",
      "1000/1000 [==============================] - 0s - loss: 0.6898 - acc: 0.5220    \n",
      "Epoch 14/20\n",
      "1000/1000 [==============================] - 0s - loss: 0.6924 - acc: 0.5230    \n",
      "Epoch 15/20\n",
      "1000/1000 [==============================] - 0s - loss: 0.6891 - acc: 0.5220    \n",
      "Epoch 16/20\n",
      "1000/1000 [==============================] - 0s - loss: 0.6859 - acc: 0.5360    \n",
      "Epoch 17/20\n",
      "1000/1000 [==============================] - 0s - loss: 0.6924 - acc: 0.5180    \n",
      "Epoch 18/20\n",
      "1000/1000 [==============================] - 0s - loss: 0.6895 - acc: 0.5300    \n",
      "Epoch 19/20\n",
      "1000/1000 [==============================] - 0s - loss: 0.6894 - acc: 0.5260    \n",
      "Epoch 20/20\n",
      "1000/1000 [==============================] - 0s - loss: 0.6847 - acc: 0.5630    \n",
      "100/100 [==============================] - 0s\n"
     ]
    }
   ],
   "source": [
    "x_train = np.random.random((1000, 20))\n",
    "y_train = np.random.randint(2, size=(1000, 1))\n",
    "x_test = np.random.random((100, 20))\n",
    "y_test = np.random.randint(2, size=(100, 1))\n",
    "\n",
    "model = Sequential()\n",
    "model.add(Dense(64, input_dim=20, activation='relu'))\n",
    "model.add(Dropout(0.5))\n",
    "model.add(Dense(64, activation='relu'))\n",
    "model.add(Dropout(0.5))\n",
    "model.add(Dense(1, activation='sigmoid'))\n",
    "\n",
    "model.compile(loss='binary_crossentropy',\n",
    "              optimizer='rmsprop',\n",
    "              metrics=['accuracy'])\n",
    "\n",
    "model.fit(x_train, y_train,\n",
    "          epochs=20,\n",
    "          batch_size=128)\n",
    "score = model.evaluate(x_test, y_test, batch_size=128)"
   ]
  },
  {
   "cell_type": "markdown",
   "metadata": {},
   "source": [
    "## VGG Like ConvNet"
   ]
  },
  {
   "cell_type": "code",
   "execution_count": 21,
   "metadata": {},
   "outputs": [
    {
     "name": "stdout",
     "output_type": "stream",
     "text": [
      "Epoch 1/10\n",
      "100/100 [==============================] - 7s - loss: 2.3986 - acc: 0.0600    \n",
      "Epoch 2/10\n",
      "100/100 [==============================] - 7s - loss: 2.2786 - acc: 0.1500    \n",
      "Epoch 3/10\n",
      "100/100 [==============================] - 7s - loss: 2.2726 - acc: 0.1100    \n",
      "Epoch 4/10\n",
      "100/100 [==============================] - 7s - loss: 2.2853 - acc: 0.0500        \n",
      "Epoch 5/10\n",
      "100/100 [==============================] - 7s - loss: 2.2603 - acc: 0.1700    \n",
      "Epoch 6/10\n",
      "100/100 [==============================] - 7s - loss: 2.2775 - acc: 0.1000    \n",
      "Epoch 7/10\n",
      "100/100 [==============================] - 7s - loss: 2.2568 - acc: 0.1400    \n",
      "Epoch 8/10\n",
      "100/100 [==============================] - 7s - loss: 2.2824 - acc: 0.1400    \n",
      "Epoch 9/10\n",
      "100/100 [==============================] - 7s - loss: 2.2639 - acc: 0.1300    \n",
      "Epoch 10/10\n",
      "100/100 [==============================] - 7s - loss: 2.2672 - acc: 0.1400    \n",
      "20/20 [==============================] - 0s\n"
     ]
    }
   ],
   "source": [
    "from keras.layers import Dense, Dropout, Flatten\n",
    "from keras.layers import Conv2D, MaxPooling2D\n",
    "from keras.optimizers import SGD\n",
    "\n",
    "# Generate dummy data\n",
    "x_train = np.random.random((100, 100, 100, 3))\n",
    "y_train = keras.utils.to_categorical(np.random.randint(10, size=(100, 1)), num_classes=10)\n",
    "x_test = np.random.random((20, 100, 100, 3))\n",
    "y_test = keras.utils.to_categorical(np.random.randint(10, size=(20, 1)), num_classes=10)\n",
    "\n",
    "model = Sequential()\n",
    "# input: 100x100 images with 3 channels -> (100, 100, 3) tensors.\n",
    "# this applies 32 convolution filters of size 3x3 each.\n",
    "model.add(Conv2D(32, (3, 3), activation='relu', input_shape=(100, 100, 3)))\n",
    "model.add(Conv2D(32, (3, 3), activation='relu'))\n",
    "model.add(MaxPooling2D(pool_size=(2, 2)))\n",
    "model.add(Dropout(0.25))\n",
    "\n",
    "model.add(Conv2D(64, (3, 3), activation='relu'))\n",
    "model.add(Conv2D(64, (3, 3), activation='relu'))\n",
    "model.add(MaxPooling2D(pool_size=(2, 2)))\n",
    "model.add(Dropout(0.25))\n",
    "\n",
    "model.add(Flatten())\n",
    "model.add(Dense(256, activation='relu'))\n",
    "model.add(Dropout(0.5))\n",
    "model.add(Dense(10, activation='softmax'))\n",
    "\n",
    "sgd = SGD(lr=0.01, decay=1e-6, momentum=0.9, nesterov=True)\n",
    "model.compile(loss='categorical_crossentropy', optimizer=sgd,metrics=['accuracy'])\n",
    "\n",
    "model.fit(x_train, y_train, batch_size=32, epochs=10)\n",
    "score = model.evaluate(x_test, y_test, batch_size=32)"
   ]
  },
  {
   "cell_type": "code",
   "execution_count": 22,
   "metadata": {},
   "outputs": [
    {
     "data": {
      "text/plain": [
       "[2.3241255283355713, 0.05000000074505806]"
      ]
     },
     "execution_count": 22,
     "metadata": {},
     "output_type": "execute_result"
    }
   ],
   "source": [
    "score"
   ]
  },
  {
   "cell_type": "markdown",
   "metadata": {},
   "source": [
    "## Stacked LSTM for sequence classification"
   ]
  },
  {
   "cell_type": "code",
   "execution_count": 23,
   "metadata": {},
   "outputs": [
    {
     "name": "stdout",
     "output_type": "stream",
     "text": [
      "Train on 1000 samples, validate on 100 samples\n",
      "Epoch 1/5\n",
      "1000/1000 [==============================] - 3s - loss: 11.6009 - acc: 0.0930 - val_loss: 11.6610 - val_acc: 0.08\n",
      "Epoch 2/5\n",
      "1000/1000 [==============================] - 0s - loss: 11.5985 - acc: 0.0990 - val_loss: 11.6605 - val_acc: 0.110\n",
      "Epoch 3/5\n",
      "1000/1000 [==============================] - 0s - loss: 11.5983 - acc: 0.0750 - val_loss: 11.6597 - val_acc: 0.100 - ETA: 0s - loss: 11.6008 - acc: 0.08\n",
      "Epoch 4/5\n",
      "1000/1000 [==============================] - 0s - loss: 11.5981 - acc: 0.0960 - val_loss: 11.6618 - val_acc: 0.110\n",
      "Epoch 5/5\n",
      "1000/1000 [==============================] - 0s - loss: 11.5973 - acc: 0.1130 - val_loss: 11.6603 - val_acc: 0.100\n"
     ]
    },
    {
     "data": {
      "text/plain": [
       "<keras.callbacks.History at 0x278bd7218d0>"
      ]
     },
     "execution_count": 23,
     "metadata": {},
     "output_type": "execute_result"
    }
   ],
   "source": [
    "from keras.models import Sequential\n",
    "from keras.layers import LSTM, Dense\n",
    "import numpy as np\n",
    "\n",
    "data_dim = 16\n",
    "timesteps = 8\n",
    "num_classes = 10\n",
    "\n",
    "# expected input data shape: (batch_size, timesteps, data_dim)\n",
    "model = Sequential()\n",
    "model.add(LSTM(32, return_sequences=True,\n",
    "               input_shape=(timesteps, data_dim)))  # returns a sequence of vectors of dimension 32\n",
    "model.add(LSTM(32, return_sequences=True))  # returns a sequence of vectors of dimension 32\n",
    "model.add(LSTM(32))  # return a single vector of dimension 32\n",
    "model.add(Dense(10, activation='softmax'))\n",
    "\n",
    "model.compile(loss='categorical_crossentropy',\n",
    "              optimizer='rmsprop',\n",
    "              metrics=['accuracy'])\n",
    "\n",
    "# Generate dummy training data\n",
    "x_train = np.random.random((1000, timesteps, data_dim))\n",
    "y_train = np.random.random((1000, num_classes))\n",
    "\n",
    "# Generate dummy validation data\n",
    "x_val = np.random.random((100, timesteps, data_dim))\n",
    "y_val = np.random.random((100, num_classes))\n",
    "\n",
    "model.fit(x_train, y_train,\n",
    "          batch_size=64, epochs=5,\n",
    "          validation_data=(x_val, y_val))"
   ]
  },
  {
   "cell_type": "markdown",
   "metadata": {},
   "source": [
    "## Same stacked LSTM model, rendered \"stateful\""
   ]
  },
  {
   "cell_type": "code",
   "execution_count": 24,
   "metadata": {},
   "outputs": [
    {
     "name": "stdout",
     "output_type": "stream",
     "text": [
      "Train on 320 samples, validate on 96 samples\n",
      "Epoch 1/5\n",
      "320/320 [==============================] - 2s - loss: 11.4818 - acc: 0.1094 - val_loss: 11.5566 - val_acc: 0.062\n",
      "Epoch 2/5\n",
      "320/320 [==============================] - 0s - loss: 11.4762 - acc: 0.1094 - val_loss: 11.5563 - val_acc: 0.062\n",
      "Epoch 3/5\n",
      "320/320 [==============================] - 0s - loss: 11.4752 - acc: 0.1062 - val_loss: 11.5562 - val_acc: 0.062\n",
      "Epoch 4/5\n",
      "320/320 [==============================] - 0s - loss: 11.4745 - acc: 0.0969 - val_loss: 11.5561 - val_acc: 0.072\n",
      "Epoch 5/5\n",
      "320/320 [==============================] - 0s - loss: 11.4737 - acc: 0.1062 - val_loss: 11.5561 - val_acc: 0.072\n"
     ]
    },
    {
     "data": {
      "text/plain": [
       "<keras.callbacks.History at 0x278cccf4f98>"
      ]
     },
     "execution_count": 24,
     "metadata": {},
     "output_type": "execute_result"
    }
   ],
   "source": [
    "from keras.models import Sequential\n",
    "from keras.layers import LSTM, Dense\n",
    "import numpy as np\n",
    "\n",
    "data_dim = 16\n",
    "timesteps = 8\n",
    "num_classes = 10\n",
    "batch_size = 32\n",
    "\n",
    "# Expected input batch shape: (batch_size, timesteps, data_dim)\n",
    "# Note that we have to provide the full batch_input_shape since the network is stateful.\n",
    "# the sample of index i in batch k is the follow-up for the sample i in batch k-1.\n",
    "model = Sequential()\n",
    "model.add(LSTM(32, return_sequences=True, stateful=True,\n",
    "               batch_input_shape=(batch_size, timesteps, data_dim)))\n",
    "model.add(LSTM(32, return_sequences=True, stateful=True))\n",
    "model.add(LSTM(32, stateful=True))\n",
    "model.add(Dense(10, activation='softmax'))\n",
    "\n",
    "model.compile(loss='categorical_crossentropy',\n",
    "              optimizer='rmsprop',\n",
    "              metrics=['accuracy'])\n",
    "\n",
    "# Generate dummy training data\n",
    "x_train = np.random.random((batch_size * 10, timesteps, data_dim))\n",
    "y_train = np.random.random((batch_size * 10, num_classes))\n",
    "\n",
    "# Generate dummy validation data\n",
    "x_val = np.random.random((batch_size * 3, timesteps, data_dim))\n",
    "y_val = np.random.random((batch_size * 3, num_classes))\n",
    "\n",
    "model.fit(x_train, y_train,\n",
    "          batch_size=batch_size, epochs=5, shuffle=False,\n",
    "          validation_data=(x_val, y_val))"
   ]
  }
 ],
 "metadata": {
  "kernelspec": {
   "display_name": "Python [conda env:tensorflow]",
   "language": "python",
   "name": "conda-env-tensorflow-py"
  },
  "language_info": {
   "codemirror_mode": {
    "name": "ipython",
    "version": 3
   },
   "file_extension": ".py",
   "mimetype": "text/x-python",
   "name": "python",
   "nbconvert_exporter": "python",
   "pygments_lexer": "ipython3",
   "version": "3.5.3"
  }
 },
 "nbformat": 4,
 "nbformat_minor": 2
}
