{
 "cells": [
  {
   "cell_type": "markdown",
   "metadata": {},
   "source": [
    "### Deep Learning Libraries in Python\n",
    "* Tensorflow\n",
    "* theano \n",
    "* TFLearn > Tensorflow\n",
    "* Keras > Tensorflow, theano\n",
    "* Pytorch  -  FB\n",
    "* PyCaffe \n",
    "* MXnet > MS\n",
    "\n",
    "### Python IDLEs\n",
    "* pycharm\n",
    "* spyder \n",
    "* Visual Studio code \n",
    "* Sublime \n",
    "\n",
    "### AI Case Studies (Use Cases) to check for\n",
    "* Google Duplex \n",
    "* Boston Robotics \n",
    "* Amazon shop \n",
    "* amazon customer care app \n",
    "* siri , alexa, google home \n",
    "\n"
   ]
  },
  {
   "cell_type": "markdown",
   "metadata": {},
   "source": [
    "### Future Sessions\n",
    "* colored images trainig CNN + optimizers\n",
    "* RNN + LSTM \n",
    "* Handson \n",
    "* Chatbots \n",
    "* Chatbots 2\n",
    "* Object Detection + Case studies \n"
   ]
  },
  {
   "cell_type": "code",
   "execution_count": 22,
   "metadata": {},
   "outputs": [],
   "source": [
    "import keras\n",
    "from keras.models import Model\n",
    "from keras.models import Sequential\n",
    "from keras.layers import Dense, Activation, Dropout\n",
    "from keras.optimizers import SGD, Adam, RMSprop\n",
    "import numpy as np\n",
    "from keras.datasets import mnist\n",
    "from keras.models import load_model"
   ]
  },
  {
   "cell_type": "code",
   "execution_count": 6,
   "metadata": {},
   "outputs": [
    {
     "name": "stdout",
     "output_type": "stream",
     "text": [
      "_________________________________________________________________\n",
      "Layer (type)                 Output Shape              Param #   \n",
      "=================================================================\n",
      "dense_1 (Dense)              (None, 32)                3232      \n",
      "_________________________________________________________________\n",
      "dense_2 (Dense)              (None, 1)                 33        \n",
      "=================================================================\n",
      "Total params: 3,265.0\n",
      "Trainable params: 3,265\n",
      "Non-trainable params: 0.0\n",
      "_________________________________________________________________\n"
     ]
    }
   ],
   "source": [
    "model =  Sequential()\n",
    "model.add(Dense(32,activation='relu',input_dim=100))\n",
    "model.add(Dense(1,activation='sigmoid'))\n",
    "model.compile(optimizer=\"rmsprop\",loss=\"binary_crossentropy\",metrics=['accuracy'])\n",
    "model.summary()"
   ]
  },
  {
   "cell_type": "code",
   "execution_count": 8,
   "metadata": {},
   "outputs": [],
   "source": [
    "data = np.random.random((1000,100))\n",
    "labels = np.random.randint(2,size=(1000,1))"
   ]
  },
  {
   "cell_type": "code",
   "execution_count": 9,
   "metadata": {},
   "outputs": [
    {
     "name": "stdout",
     "output_type": "stream",
     "text": [
      "Epoch 1/10\n",
      "1000/1000 [==============================] - 0s - loss: 0.7265 - acc: 0.4860     \n",
      "Epoch 2/10\n",
      "1000/1000 [==============================] - 0s - loss: 0.7069 - acc: 0.5050     \n",
      "Epoch 3/10\n",
      "1000/1000 [==============================] - 0s - loss: 0.7037 - acc: 0.4970     \n",
      "Epoch 4/10\n",
      "1000/1000 [==============================] - 0s - loss: 0.6964 - acc: 0.5320     \n",
      "Epoch 5/10\n",
      "1000/1000 [==============================] - 0s - loss: 0.6909 - acc: 0.5260     \n",
      "Epoch 6/10\n",
      "1000/1000 [==============================] - 0s - loss: 0.6851 - acc: 0.5540     \n",
      "Epoch 7/10\n",
      "1000/1000 [==============================] - 0s - loss: 0.6811 - acc: 0.5690     \n",
      "Epoch 8/10\n",
      "1000/1000 [==============================] - 0s - loss: 0.6757 - acc: 0.5800     \n",
      "Epoch 9/10\n",
      "1000/1000 [==============================] - 0s - loss: 0.6723 - acc: 0.5690     \n",
      "Epoch 10/10\n",
      "1000/1000 [==============================] - 0s - loss: 0.6650 - acc: 0.5990     \n"
     ]
    },
    {
     "data": {
      "text/plain": [
       "<keras.callbacks.History at 0x1c0b36e76d8>"
      ]
     },
     "execution_count": 9,
     "metadata": {},
     "output_type": "execute_result"
    }
   ],
   "source": [
    "model.fit(data,labels,epochs=10,batch_size=32)"
   ]
  },
  {
   "cell_type": "code",
   "execution_count": 12,
   "metadata": {},
   "outputs": [],
   "source": [
    "#model.predict_classes(data)"
   ]
  },
  {
   "cell_type": "markdown",
   "metadata": {},
   "source": [
    "## MNIST Dataset"
   ]
  },
  {
   "cell_type": "code",
   "execution_count": 7,
   "metadata": {},
   "outputs": [
    {
     "name": "stdout",
     "output_type": "stream",
     "text": [
      "_________________________________________________________________\n",
      "Layer (type)                 Output Shape              Param #   \n",
      "=================================================================\n",
      "dense_13 (Dense)             (None, 500)               392500    \n",
      "_________________________________________________________________\n",
      "dense_14 (Dense)             (None, 500)               250500    \n",
      "_________________________________________________________________\n",
      "dense_15 (Dense)             (None, 500)               250500    \n",
      "_________________________________________________________________\n",
      "dense_16 (Dense)             (None, 10)                5010      \n",
      "=================================================================\n",
      "Total params: 898,510.0\n",
      "Trainable params: 898,510\n",
      "Non-trainable params: 0.0\n",
      "_________________________________________________________________\n",
      "Train on 60000 samples, validate on 10000 samples\n",
      "Epoch 1/10\n",
      "60000/60000 [==============================] - 20s - loss: 0.2376 - acc: 0.9263 - val_loss: 0.1108 - val_acc: 0.9680\n",
      "Epoch 2/10\n",
      "60000/60000 [==============================] - 19s - loss: 0.0880 - acc: 0.9736 - val_loss: 0.0879 - val_acc: 0.9725\n",
      "Epoch 3/10\n",
      "60000/60000 [==============================] - 18s - loss: 0.0610 - acc: 0.9819 - val_loss: 0.0966 - val_acc: 0.9750\n",
      "Epoch 4/10\n",
      "60000/60000 [==============================] - 18s - loss: 0.0479 - acc: 0.9865 - val_loss: 0.0949 - val_acc: 0.9750\n",
      "Epoch 5/10\n",
      "60000/60000 [==============================] - 19s - loss: 0.0404 - acc: 0.9890 - val_loss: 0.1021 - val_acc: 0.9770\n",
      "Epoch 6/10\n",
      "60000/60000 [==============================] - 17s - loss: 0.0329 - acc: 0.9909 - val_loss: 0.1296 - val_acc: 0.9742\n",
      "Epoch 7/10\n",
      "60000/60000 [==============================] - 16s - loss: 0.0291 - acc: 0.9924 - val_loss: 0.1385 - val_acc: 0.9761\n",
      "Epoch 8/10\n",
      "60000/60000 [==============================] - 16s - loss: 0.0279 - acc: 0.9926 - val_loss: 0.1351 - val_acc: 0.9766\n",
      "Epoch 9/10\n",
      "60000/60000 [==============================] - 17s - loss: 0.0265 - acc: 0.9935 - val_loss: 0.1327 - val_acc: 0.9795\n",
      "Epoch 10/10\n",
      "60000/60000 [==============================] - 17s - loss: 0.0244 - acc: 0.9942 - val_loss: 0.1276 - val_acc: 0.9815\n",
      "Test loss: 0.12759232497049047\n",
      "Test accuracy: 0.9815\n"
     ]
    }
   ],
   "source": [
    "(x_train,y_train), (x_test,y_test) = mnist.load_data()\n",
    "x_train = x_train.reshape(60000,784)\n",
    "x_test = x_test.reshape(10000,784)\n",
    "\n",
    "x_train = x_train.astype('float32') # Cnverting pixel values to float\n",
    "x_test = x_test.astype('float32')\n",
    "x_train /= 255   # Pixel normalization\n",
    "x_test /= 255\n",
    "\n",
    "y_train = keras.utils.to_categorical(y_train,10)\n",
    "y_test = keras.utils.to_categorical(y_test,10)\n",
    "\n",
    "\n",
    "model = Sequential()\n",
    "model.add(Dense(500,activation='relu',input_shape=(784,)))\n",
    "\n",
    "model.add(Dense(500,activation='relu'))\n",
    "\n",
    "model.add(Dense(500,activation='relu'))\n",
    "\n",
    "model.add(Dense(10,activation='softmax'))\n",
    "\n",
    "model.summary()\n",
    "\n",
    "\n",
    "model.compile(loss='categorical_crossentropy',optimizer=RMSprop(),metrics=['accuracy'])\n",
    "\n",
    "model.fit(x_train,y_train,batch_size=128,epochs=10,verbose=1,validation_data=(x_test,y_test))\n",
    "model.save(\"KerasMNIST.model\")\n",
    "score = model.evaluate(x_test, y_test, verbose=0)\n",
    "print('Test loss:', score[0])\n",
    "print('Test accuracy:', score[1])"
   ]
  },
  {
   "cell_type": "markdown",
   "metadata": {},
   "source": [
    "## MNIST Prediction"
   ]
  },
  {
   "cell_type": "code",
   "execution_count": 23,
   "metadata": {},
   "outputs": [],
   "source": [
    "model = load_model(\"KerasMNIST.model\")"
   ]
  },
  {
   "cell_type": "code",
   "execution_count": 24,
   "metadata": {},
   "outputs": [
    {
     "name": "stdout",
     "output_type": "stream",
     "text": [
      "1/1 [==============================] - 0s\n",
      "Predicted: 1\n"
     ]
    },
    {
     "data": {
      "image/png": "[encoded data removed]",
      "text/plain": [
       "<matplotlib.figure.Figure at 0x1c644b9b4e0>"
      ]
     },
     "metadata": {},
     "output_type": "display_data"
    }
   ],
   "source": [
    "import matplotlib.pyplot as plt\n",
    "def print_test_image(image_index):\n",
    "    image = x_test[image_index]\n",
    "    image = np.array(image, dtype='float')\n",
    "    pixels = image.reshape((28, 28))\n",
    "    plt.imshow(pixels, cmap='gray')\n",
    "    plt.show()\n",
    "\n",
    "image_index = 2\n",
    "print(\"Predicted:\",model.predict_classes(x_test[image_index].reshape((1,784)))[0])\n",
    "print_test_image(image_index)"
   ]
  }
 ],
 "metadata": {
  "kernelspec": {
   "display_name": "Python [conda env:tensorflow]",
   "language": "python",
   "name": "conda-env-tensorflow-py"
  },
  "language_info": {
   "codemirror_mode": {
    "name": "ipython",
    "version": 3
   },
   "file_extension": ".py",
   "mimetype": "text/x-python",
   "name": "python",
   "nbconvert_exporter": "python",
   "pygments_lexer": "ipython3",
   "version": "3.5.3"
  }
 },
 "nbformat": 4,
 "nbformat_minor": 2
}
