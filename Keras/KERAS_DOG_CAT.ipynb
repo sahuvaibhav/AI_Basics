{
 "cells": [
  {
   "cell_type": "markdown",
   "metadata": {},
   "source": [
    "### Print Directory Tree"
   ]
  },
  {
   "cell_type": "code",
   "execution_count": 25,
   "metadata": {},
   "outputs": [
    {
     "name": "stdout",
     "output_type": "stream",
     "text": [
      "/\n",
      "    first_try.h5\n",
      "    KERAS_DOG_CAT.ipynb\n",
      ".ipynb_checkpoints/\n",
      "    KERAS_DOG_CAT-checkpoint.ipynb\n",
      "data/\n",
      "    train/\n",
      "        cats/\n",
      "            cat.0.jpg\n",
      "            cat.1.jpg\n",
      "            cat.10.jpg\n",
      "        dogs/\n",
      "            dog.0.jpg\n",
      "            dog.1.jpg\n",
      "            dog.10.jpg\n",
      "    validation/\n",
      "        cats/\n",
      "            cat.1000.jpg\n",
      "            cat.1001.jpg\n",
      "            cat.1002.jpg\n",
      "        dogs/\n",
      "            dog.1001.jpg\n",
      "            dog.1002.jpg\n",
      "            dog.1003.jpg\n",
      "preview/\n",
      "    cat_0_1079.jpeg\n",
      "    cat_0_1129.jpeg\n",
      "    cat_0_1146.jpeg\n"
     ]
    }
   ],
   "source": [
    "import os\n",
    "startpath = \"F:\\\\Downloads\\\\train\\\\\"\n",
    "def list_files(startpath):\n",
    "    for root, dirs, files in os.walk(startpath):\n",
    "        level = root.replace(startpath, '').count(os.sep)\n",
    "        indent = ' ' * 4 * (level)\n",
    "        print('{}{}/'.format(indent, os.path.basename(root)))\n",
    "        subindent = ' ' * 4 * (level + 1)\n",
    "        i = 0\n",
    "        for f in files:\n",
    "            i += 1\n",
    "            print('{}{}'.format(subindent, f))\n",
    "            if i >=3:\n",
    "                break\n",
    "\n",
    "list_files(startpath)"
   ]
  },
  {
   "cell_type": "markdown",
   "metadata": {},
   "source": [
    "### Test Data Augmentation Function (ImageDataGenerator)"
   ]
  },
  {
   "cell_type": "code",
   "execution_count": 5,
   "metadata": {},
   "outputs": [],
   "source": [
    "from keras.preprocessing.image import ImageDataGenerator, array_to_img, img_to_array, load_img\n",
    "\n",
    "datagen = ImageDataGenerator(\n",
    "        rotation_range=40,\n",
    "        width_shift_range=0.2,\n",
    "        height_shift_range=0.2,\n",
    "        shear_range=0.2,\n",
    "        zoom_range=0.2,\n",
    "        horizontal_flip=True,\n",
    "        fill_mode='nearest')\n",
    "\n",
    "img = load_img('data/train/cats/cat.0.jpg')  # this is a PIL image\n",
    "x = img_to_array(img)  # this is a Numpy array with shape (3, 150, 150)\n",
    "x = x.reshape((1,) + x.shape)  # this is a Numpy array with shape (1, 3, 150, 150)\n",
    "\n",
    "# the .flow() command below generates batches of randomly transformed images\n",
    "# and saves the results to the `preview/` directory\n",
    "i = 0\n",
    "for batch in datagen.flow(x, batch_size=1,\n",
    "                          save_to_dir='preview', save_prefix='cat', save_format='jpeg'):\n",
    "    i += 1\n",
    "    if i > 20:\n",
    "        break  # otherwise the generator would loop indefinitely"
   ]
  },
  {
   "cell_type": "markdown",
   "metadata": {},
   "source": [
    "### Define Model"
   ]
  },
  {
   "cell_type": "code",
   "execution_count": 12,
   "metadata": {},
   "outputs": [],
   "source": [
    "from keras.models import Sequential\n",
    "from keras.layers import Conv2D, MaxPooling2D\n",
    "from keras.layers import Activation, Dropout, Flatten, Dense\n",
    "from keras import backend as K\n",
    "img_width, img_height = 150, 150\n",
    "\n",
    "if K.image_data_format() == 'channels_first':\n",
    "    input_shape = (3, img_width, img_height)\n",
    "else:\n",
    "    input_shape = (img_width, img_height, 3)\n",
    "    \n",
    "model = Sequential()\n",
    "model.add(Conv2D(32, (3, 3), input_shape=input_shape))\n",
    "model.add(Activation('relu'))\n",
    "model.add(MaxPooling2D(pool_size=(2, 2)))\n",
    "\n",
    "model.add(Conv2D(32, (3, 3)))\n",
    "model.add(Activation('relu'))\n",
    "model.add(MaxPooling2D(pool_size=(2, 2)))\n",
    "\n",
    "model.add(Conv2D(64, (3, 3)))\n",
    "model.add(Activation('relu'))\n",
    "model.add(MaxPooling2D(pool_size=(2, 2)))\n",
    "\n",
    "model.add(Flatten())  # this converts our 3D feature maps to 1D feature vectors\n",
    "model.add(Dense(64))\n",
    "model.add(Activation('relu'))\n",
    "model.add(Dropout(0.5))\n",
    "model.add(Dense(1))\n",
    "model.add(Activation('sigmoid'))\n",
    "\n",
    "model.compile(loss='binary_crossentropy',\n",
    "              optimizer='rmsprop',\n",
    "              metrics=['accuracy'])"
   ]
  },
  {
   "cell_type": "code",
   "execution_count": 14,
   "metadata": {},
   "outputs": [
    {
     "name": "stdout",
     "output_type": "stream",
     "text": [
      "Found 2001 images belonging to 2 classes.\n",
      "Found 800 images belonging to 2 classes.\n"
     ]
    }
   ],
   "source": [
    "batch_size = 16\n",
    "\n",
    "# this is the augmentation configuration we will use for training\n",
    "train_datagen = ImageDataGenerator(\n",
    "        rescale=1./255,\n",
    "        shear_range=0.2,\n",
    "        zoom_range=0.2,\n",
    "        horizontal_flip=True)\n",
    "\n",
    "# this is the augmentation configuration we will use for testing:\n",
    "# only rescaling\n",
    "test_datagen = ImageDataGenerator(rescale=1./255)\n",
    "\n",
    "# this is a generator that will read pictures found in\n",
    "# subfolers of 'data/train', and indefinitely generate\n",
    "# batches of augmented image data\n",
    "train_generator = train_datagen.flow_from_directory(\n",
    "        'data/train',  # this is the target directory\n",
    "        target_size=(150, 150),  # all images will be resized to 150x150\n",
    "        batch_size=batch_size,\n",
    "        class_mode='binary')  # since we use binary_crossentropy loss, we need binary labels\n",
    "\n",
    "# this is a similar generator, for validation data\n",
    "validation_generator = test_datagen.flow_from_directory(\n",
    "        'data/validation',\n",
    "        target_size=(150, 150),\n",
    "        batch_size=batch_size,\n",
    "        class_mode='binary')\n"
   ]
  },
  {
   "cell_type": "markdown",
   "metadata": {},
   "source": [
    "### Train Model"
   ]
  },
  {
   "cell_type": "code",
   "execution_count": 24,
   "metadata": {},
   "outputs": [
    {
     "name": "stdout",
     "output_type": "stream",
     "text": [
      "Epoch 1/10\n",
      "125/125 [==============================] - 115s - loss: 0.7059 - acc: 0.5665 - val_loss: 0.6561 - val_acc: 0.6550\n",
      "Epoch 2/10\n",
      "125/125 [==============================] - 117s - loss: 0.6489 - acc: 0.6195 - val_loss: 0.6296 - val_acc: 0.6525\n",
      "Epoch 3/10\n",
      "125/125 [==============================] - 123s - loss: 0.6210 - acc: 0.6570 - val_loss: 0.6021 - val_acc: 0.6613\n",
      "Epoch 4/10\n",
      "125/125 [==============================] - 127s - loss: 0.6064 - acc: 0.6805 - val_loss: 0.5763 - val_acc: 0.6837\n",
      "Epoch 5/10\n",
      "125/125 [==============================] - 121s - loss: 0.5923 - acc: 0.6935 - val_loss: 0.6146 - val_acc: 0.6450\n",
      "Epoch 6/10\n",
      "125/125 [==============================] - 116s - loss: 0.5585 - acc: 0.7170 - val_loss: 0.5776 - val_acc: 0.6763\n",
      "Epoch 7/10\n",
      "125/125 [==============================] - 116s - loss: 0.5679 - acc: 0.7275 - val_loss: 0.6420 - val_acc: 0.6763\n",
      "Epoch 8/10\n",
      "125/125 [==============================] - 114s - loss: 0.5488 - acc: 0.7475 - val_loss: 0.5434 - val_acc: 0.7275\n",
      "Epoch 9/10\n",
      "125/125 [==============================] - 118s - loss: 0.5376 - acc: 0.7410 - val_loss: 0.6050 - val_acc: 0.6650\n",
      "Epoch 10/10\n",
      "125/125 [==============================] - 117s - loss: 0.5189 - acc: 0.7555 - val_loss: 0.5765 - val_acc: 0.7137\n"
     ]
    }
   ],
   "source": [
    "model.fit_generator(\n",
    "        train_generator,\n",
    "        steps_per_epoch=2000 // batch_size,\n",
    "        epochs=10,\n",
    "        validation_data=validation_generator,\n",
    "        validation_steps=800 // batch_size)\n",
    "model.save_weights('first_try.h5')  # always save your weights after training or during training"
   ]
  }
 ],
 "metadata": {
  "kernelspec": {
   "display_name": "Python [conda env:tensorflow]",
   "language": "python",
   "name": "conda-env-tensorflow-py"
  },
  "language_info": {
   "codemirror_mode": {
    "name": "ipython",
    "version": 3
   },
   "file_extension": ".py",
   "mimetype": "text/x-python",
   "name": "python",
   "nbconvert_exporter": "python",
   "pygments_lexer": "ipython3",
   "version": "3.5.3"
  }
 },
 "nbformat": 4,
 "nbformat_minor": 2
}
