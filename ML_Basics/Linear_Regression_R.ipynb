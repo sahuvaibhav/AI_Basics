{
 "cells": [
  {
   "cell_type": "markdown",
   "metadata": {},
   "source": [
    "#                                    Demo Linear Regression - r"
   ]
  },
  {
   "cell_type": "markdown",
   "metadata": {},
   "source": [
    "## Importing Libraries"
   ]
  },
  {
   "cell_type": "code",
   "execution_count": 10,
   "metadata": {},
   "outputs": [
    {
     "name": "stderr",
     "output_type": "stream",
     "text": [
      "Warning message:\n",
      "\"package 'GGally' was built under R version 3.4.3\"Warning message:\n",
      "\"package 'PerformanceAnalytics' was built under R version 3.4.3\"Loading required package: xts\n",
      "Warning message:\n",
      "\"package 'xts' was built under R version 3.4.3\"Loading required package: zoo\n",
      "Warning message:\n",
      "\"package 'zoo' was built under R version 3.4.3\"\n",
      "Attaching package: 'zoo'\n",
      "\n",
      "The following objects are masked from 'package:base':\n",
      "\n",
      "    as.Date, as.Date.numeric\n",
      "\n",
      "\n",
      "Attaching package: 'PerformanceAnalytics'\n",
      "\n",
      "The following object is masked from 'package:graphics':\n",
      "\n",
      "    legend\n",
      "\n",
      "corrplot 0.84 loaded\n"
     ]
    }
   ],
   "source": [
    "#install.packages(\"GGally\",repos=\"https://cloud.r-project.org/\")\n",
    "library(ggplot2)\n",
    "library(GGally)\n",
    "library(PerformanceAnalytics)\n",
    "library(corrplot)\n",
    "options(warn=-1)\n",
    "options(repr.plot.width=4, repr.plot.height=4)\n",
    "library(gridExtra)"
   ]
  },
  {
   "cell_type": "markdown",
   "metadata": {},
   "source": [
    "### Reading input data\n",
    "Input data contain below variables\n",
    "\n",
    "- compn_curr(**Target Variable**) - Current Compensation of the agent\n",
    "\n",
    "- agentID - Agent ID\n",
    "\n",
    "- age - Age of Agent\n",
    "\n",
    "- education - Education level of agent (Low, Medium, High)\n",
    "\n",
    "- Location\n",
    "\n",
    "- sub_members - Subordinate men=mber working for the agent\n",
    "\n",
    "- commmitment - Is Agent part time(P) or Full time(F) agent\n",
    "\n",
    "- returned_orders - dollar value of orders returned by the agent\n",
    "\n",
    "- compn_prev - Compensation earned by agent last month\n"
   ]
  },
  {
   "cell_type": "code",
   "execution_count": 152,
   "metadata": {},
   "outputs": [
    {
     "data": {
      "text/html": [
       "<table>\n",
       "<thead><tr><th scope=col>agentID</th><th scope=col>age</th><th scope=col>education</th><th scope=col>Location</th><th scope=col>years_mem</th><th scope=col>sub_members</th><th scope=col>commitment</th><th scope=col>returned_orders</th><th scope=col>compn_prev</th><th scope=col>compn_curr</th></tr></thead>\n",
       "<tbody>\n",
       "\t<tr><td>1       </td><td>42      </td><td>lower   </td><td>SF      </td><td> 7      </td><td>12      </td><td>F       </td><td>369     </td><td>819     </td><td>731.0740</td></tr>\n",
       "\t<tr><td>2       </td><td>28      </td><td>medium  </td><td>WA      </td><td> 3      </td><td>13      </td><td>F       </td><td>136     </td><td>377     </td><td>755.6294</td></tr>\n",
       "\t<tr><td>3       </td><td>45      </td><td>higher  </td><td>DE      </td><td> 6      </td><td> 2      </td><td>F       </td><td> 38     </td><td>203     </td><td>545.5058</td></tr>\n",
       "\t<tr><td>4       </td><td>33      </td><td>lower   </td><td>TX      </td><td>10      </td><td> 6      </td><td>P       </td><td> 31     </td><td> 31     </td><td>456.3678</td></tr>\n",
       "\t<tr><td>5       </td><td>32      </td><td>higher  </td><td>TX      </td><td> 9      </td><td>20      </td><td>P       </td><td>173     </td><td>398     </td><td>813.7908</td></tr>\n",
       "\t<tr><td>6       </td><td>45      </td><td>medium  </td><td>DE      </td><td> 0      </td><td> 7      </td><td>F       </td><td>237     </td><td>720     </td><td>668.4394</td></tr>\n",
       "</tbody>\n",
       "</table>\n"
      ],
      "text/latex": [
       "\\begin{tabular}{r|llllllllll}\n",
       " agentID & age & education & Location & years\\_mem & sub\\_members & commitment & returned\\_orders & compn\\_prev & compn\\_curr\\\\\n",
       "\\hline\n",
       "\t 1        & 42       & lower    & SF       &  7       & 12       & F        & 369      & 819      & 731.0740\\\\\n",
       "\t 2        & 28       & medium   & WA       &  3       & 13       & F        & 136      & 377      & 755.6294\\\\\n",
       "\t 3        & 45       & higher   & DE       &  6       &  2       & F        &  38      & 203      & 545.5058\\\\\n",
       "\t 4        & 33       & lower    & TX       & 10       &  6       & P        &  31      &  31      & 456.3678\\\\\n",
       "\t 5        & 32       & higher   & TX       &  9       & 20       & P        & 173      & 398      & 813.7908\\\\\n",
       "\t 6        & 45       & medium   & DE       &  0       &  7       & F        & 237      & 720      & 668.4394\\\\\n",
       "\\end{tabular}\n"
      ],
      "text/markdown": [
       "\n",
       "agentID | age | education | Location | years_mem | sub_members | commitment | returned_orders | compn_prev | compn_curr | \n",
       "|---|---|---|---|---|---|\n",
       "| 1        | 42       | lower    | SF       |  7       | 12       | F        | 369      | 819      | 731.0740 | \n",
       "| 2        | 28       | medium   | WA       |  3       | 13       | F        | 136      | 377      | 755.6294 | \n",
       "| 3        | 45       | higher   | DE       |  6       |  2       | F        |  38      | 203      | 545.5058 | \n",
       "| 4        | 33       | lower    | TX       | 10       |  6       | P        |  31      |  31      | 456.3678 | \n",
       "| 5        | 32       | higher   | TX       |  9       | 20       | P        | 173      | 398      | 813.7908 | \n",
       "| 6        | 45       | medium   | DE       |  0       |  7       | F        | 237      | 720      | 668.4394 | \n",
       "\n",
       "\n"
      ],
      "text/plain": [
       "  agentID age education Location years_mem sub_members commitment\n",
       "1 1       42  lower     SF        7        12          F         \n",
       "2 2       28  medium    WA        3        13          F         \n",
       "3 3       45  higher    DE        6         2          F         \n",
       "4 4       33  lower     TX       10         6          P         \n",
       "5 5       32  higher    TX        9        20          P         \n",
       "6 6       45  medium    DE        0         7          F         \n",
       "  returned_orders compn_prev compn_curr\n",
       "1 369             819        731.0740  \n",
       "2 136             377        755.6294  \n",
       "3  38             203        545.5058  \n",
       "4  31              31        456.3678  \n",
       "5 173             398        813.7908  \n",
       "6 237             720        668.4394  "
      ]
     },
     "metadata": {},
     "output_type": "display_data"
    }
   ],
   "source": [
    "data = read.csv(\"test_data_RF.csv\")\n",
    "head(data)"
   ]
  },
  {
   "cell_type": "code",
   "execution_count": 2,
   "metadata": {},
   "outputs": [
    {
     "data": {
      "text/html": [
       "<table>\n",
       "<thead><tr><th scope=col>agentID</th><th scope=col>age</th><th scope=col>education</th><th scope=col>Location</th><th scope=col>years_mem</th><th scope=col>sub_members</th><th scope=col>commitment</th><th scope=col>returned_orders</th><th scope=col>compn_prev</th><th scope=col>compn_curr</th></tr></thead>\n",
       "<tbody>\n",
       "\t<tr><td>1       </td><td>42      </td><td>lower   </td><td>SF      </td><td> 7      </td><td>12      </td><td>F       </td><td>369     </td><td>819     </td><td>731.0740</td></tr>\n",
       "\t<tr><td>2       </td><td>28      </td><td>medium  </td><td>WA      </td><td> 3      </td><td>13      </td><td>F       </td><td>136     </td><td>377     </td><td>755.6294</td></tr>\n",
       "\t<tr><td>3       </td><td>45      </td><td>higher  </td><td>DE      </td><td> 6      </td><td> 2      </td><td>F       </td><td> 38     </td><td>203     </td><td>545.5058</td></tr>\n",
       "\t<tr><td>4       </td><td>33      </td><td>lower   </td><td>TX      </td><td>10      </td><td> 6      </td><td>P       </td><td> 31     </td><td> 31     </td><td>456.3678</td></tr>\n",
       "\t<tr><td>5       </td><td>32      </td><td>higher  </td><td>TX      </td><td> 9      </td><td>20      </td><td>P       </td><td>173     </td><td>398     </td><td>813.7908</td></tr>\n",
       "\t<tr><td>6       </td><td>45      </td><td>medium  </td><td>DE      </td><td> 0      </td><td> 7      </td><td>F       </td><td>237     </td><td>720     </td><td>668.4394</td></tr>\n",
       "</tbody>\n",
       "</table>\n"
      ],
      "text/latex": [
       "\\begin{tabular}{r|llllllllll}\n",
       " agentID & age & education & Location & years\\_mem & sub\\_members & commitment & returned\\_orders & compn\\_prev & compn\\_curr\\\\\n",
       "\\hline\n",
       "\t 1        & 42       & lower    & SF       &  7       & 12       & F        & 369      & 819      & 731.0740\\\\\n",
       "\t 2        & 28       & medium   & WA       &  3       & 13       & F        & 136      & 377      & 755.6294\\\\\n",
       "\t 3        & 45       & higher   & DE       &  6       &  2       & F        &  38      & 203      & 545.5058\\\\\n",
       "\t 4        & 33       & lower    & TX       & 10       &  6       & P        &  31      &  31      & 456.3678\\\\\n",
       "\t 5        & 32       & higher   & TX       &  9       & 20       & P        & 173      & 398      & 813.7908\\\\\n",
       "\t 6        & 45       & medium   & DE       &  0       &  7       & F        & 237      & 720      & 668.4394\\\\\n",
       "\\end{tabular}\n"
      ],
      "text/markdown": [
       "\n",
       "agentID | age | education | Location | years_mem | sub_members | commitment | returned_orders | compn_prev | compn_curr | \n",
       "|---|---|---|---|---|---|\n",
       "| 1        | 42       | lower    | SF       |  7       | 12       | F        | 369      | 819      | 731.0740 | \n",
       "| 2        | 28       | medium   | WA       |  3       | 13       | F        | 136      | 377      | 755.6294 | \n",
       "| 3        | 45       | higher   | DE       |  6       |  2       | F        |  38      | 203      | 545.5058 | \n",
       "| 4        | 33       | lower    | TX       | 10       |  6       | P        |  31      |  31      | 456.3678 | \n",
       "| 5        | 32       | higher   | TX       |  9       | 20       | P        | 173      | 398      | 813.7908 | \n",
       "| 6        | 45       | medium   | DE       |  0       |  7       | F        | 237      | 720      | 668.4394 | \n",
       "\n",
       "\n"
      ],
      "text/plain": [
       "  agentID age education Location years_mem sub_members commitment\n",
       "1 1       42  lower     SF        7        12          F         \n",
       "2 2       28  medium    WA        3        13          F         \n",
       "3 3       45  higher    DE        6         2          F         \n",
       "4 4       33  lower     TX       10         6          P         \n",
       "5 5       32  higher    TX        9        20          P         \n",
       "6 6       45  medium    DE        0         7          F         \n",
       "  returned_orders compn_prev compn_curr\n",
       "1 369             819        731.0740  \n",
       "2 136             377        755.6294  \n",
       "3  38             203        545.5058  \n",
       "4  31              31        456.3678  \n",
       "5 173             398        813.7908  \n",
       "6 237             720        668.4394  "
      ]
     },
     "metadata": {},
     "output_type": "display_data"
    }
   ],
   "source": [
    "data  = read.csv(\"test_data_RF.csv\")\n",
    "head(data)"
   ]
  },
  {
   "cell_type": "code",
   "execution_count": 4,
   "metadata": {},
   "outputs": [
    {
     "data": {
      "text/plain": [
       "    agentID           age         education  Location   years_mem    \n",
       " Min.   : 1.00   Min.   :26.00   higher:19   DE:12    Min.   : 0.00  \n",
       " 1st Qu.:13.25   1st Qu.:32.00   lower :17   SF:13    1st Qu.: 1.00  \n",
       " Median :25.50   Median :37.50   medium:14   TX:13    Median : 4.00  \n",
       " Mean   :25.50   Mean   :37.26               WA:12    Mean   : 4.42  \n",
       " 3rd Qu.:37.75   3rd Qu.:42.00                        3rd Qu.: 7.00  \n",
       " Max.   :50.00   Max.   :50.00                        Max.   :10.00  \n",
       "  sub_members    commitment returned_orders   compn_prev      compn_curr     \n",
       " Min.   : 0.00   F:25       Min.   : 19.0   Min.   : 31.0   Min.   :  31.78  \n",
       " 1st Qu.: 4.00   P:25       1st Qu.:108.8   1st Qu.:208.5   1st Qu.: 419.32  \n",
       " Median : 8.00              Median :212.5   Median :495.0   Median : 610.45  \n",
       " Mean   : 8.98              Mean   :230.9   Mean   :519.4   Mean   : 592.26  \n",
       " 3rd Qu.:13.75              3rd Qu.:364.8   3rd Qu.:825.0   3rd Qu.: 749.61  \n",
       " Max.   :20.00              Max.   :498.0   Max.   :973.0   Max.   :1085.00  "
      ]
     },
     "metadata": {},
     "output_type": "display_data"
    }
   ],
   "source": [
    "summary(data)"
   ]
  },
  {
   "cell_type": "markdown",
   "metadata": {},
   "source": [
    "### How data looks"
   ]
  },
  {
   "cell_type": "code",
   "execution_count": 11,
   "metadata": {},
   "outputs": [
    {
     "name": "stdout",
     "output_type": "stream",
     "text": [
      "'data.frame':\t50 obs. of  10 variables:\n",
      " $ agentID        : int  1 2 3 4 5 6 7 8 9 10 ...\n",
      " $ age            : int  42 28 45 33 32 45 41 40 50 44 ...\n",
      " $ education      : Factor w/ 3 levels \"higher\",\"lower\",..: 2 3 1 2 1 3 1 2 2 2 ...\n",
      " $ Location       : Factor w/ 4 levels \"DE\",\"SF\",\"TX\",..: 2 4 1 3 3 1 3 2 2 2 ...\n",
      " $ years_mem      : int  7 3 6 10 9 0 6 0 4 1 ...\n",
      " $ sub_members    : int  12 13 2 6 20 7 4 19 0 3 ...\n",
      " $ commitment     : Factor w/ 2 levels \"F\",\"P\": 1 1 1 2 2 1 1 2 2 1 ...\n",
      " $ returned_orders: int  369 136 38 31 173 237 352 207 199 52 ...\n",
      " $ compn_prev     : int  819 377 203 31 398 720 81 836 862 795 ...\n",
      " $ compn_curr     : num  731 756 546 456 814 ...\n"
     ]
    },
    {
     "data": {
      "text/plain": [
       "    agentID           age         education  Location   years_mem    \n",
       " Min.   : 1.00   Min.   :26.00   higher:19   DE:12    Min.   : 0.00  \n",
       " 1st Qu.:13.25   1st Qu.:32.00   lower :17   SF:13    1st Qu.: 1.00  \n",
       " Median :25.50   Median :37.50   medium:14   TX:13    Median : 4.00  \n",
       " Mean   :25.50   Mean   :37.26               WA:12    Mean   : 4.42  \n",
       " 3rd Qu.:37.75   3rd Qu.:42.00                        3rd Qu.: 7.00  \n",
       " Max.   :50.00   Max.   :50.00                        Max.   :10.00  \n",
       "  sub_members    commitment returned_orders   compn_prev      compn_curr     \n",
       " Min.   : 0.00   F:25       Min.   : 19.0   Min.   : 31.0   Min.   :  31.78  \n",
       " 1st Qu.: 4.00   P:25       1st Qu.:108.8   1st Qu.:208.5   1st Qu.: 419.32  \n",
       " Median : 8.00              Median :212.5   Median :495.0   Median : 610.45  \n",
       " Mean   : 8.98              Mean   :230.9   Mean   :519.4   Mean   : 592.26  \n",
       " 3rd Qu.:13.75              3rd Qu.:364.8   3rd Qu.:825.0   3rd Qu.: 749.61  \n",
       " Max.   :20.00              Max.   :498.0   Max.   :973.0   Max.   :1085.00  "
      ]
     },
     "metadata": {},
     "output_type": "display_data"
    }
   ],
   "source": [
    "str(data)\n",
    "summary(data)"
   ]
  },
  {
   "cell_type": "markdown",
   "metadata": {},
   "source": [
    "### Data Exploration\n",
    "There are two types of variables\n",
    "* Numeric - age\tyears_mem\tsub_members\treturned_orders\tcompn_prev\tcompn_curr\n",
    "* Categorical - education, location, commitment\n",
    "\n",
    "agentID is ID variable. It will not be included in analysis.\n",
    "\n"
   ]
  },
  {
   "cell_type": "markdown",
   "metadata": {},
   "source": [
    "### Exploring Numeric Variables\n",
    "Below chart shows the correlation between the numeric variables.\n",
    "\n",
    "We see that target **compn_curr** is highly correlated with **\"sub_members\"** and **\"compn_prev\"**."
   ]
  },
  {
   "cell_type": "code",
   "execution_count": 11,
   "metadata": {},
   "outputs": [
    {
     "data": {
      "text/html": [
       "<table>\n",
       "<thead><tr><th></th><th scope=col>age</th><th scope=col>years_mem</th><th scope=col>sub_members</th><th scope=col>returned_orders</th><th scope=col>compn_prev</th><th scope=col>compn_curr</th></tr></thead>\n",
       "<tbody>\n",
       "\t<tr><th scope=row>age</th><td> 1.00000000 </td><td> 0.03603997 </td><td>-0.187913070</td><td>-0.066803882</td><td> 0.07667244 </td><td> 0.04463295 </td></tr>\n",
       "\t<tr><th scope=row>years_mem</th><td> 0.03603997 </td><td> 1.00000000 </td><td> 0.011692799</td><td> 0.123292422</td><td>-0.27617557 </td><td>-0.11380047 </td></tr>\n",
       "\t<tr><th scope=row>sub_members</th><td>-0.18791307 </td><td> 0.01169280 </td><td> 1.000000000</td><td>-0.005495489</td><td> 0.21164740 </td><td> 0.66356996 </td></tr>\n",
       "\t<tr><th scope=row>returned_orders</th><td>-0.06680388 </td><td> 0.12329242 </td><td>-0.005495489</td><td> 1.000000000</td><td>-0.02541715 </td><td>-0.49282922 </td></tr>\n",
       "\t<tr><th scope=row>compn_prev</th><td> 0.07667244 </td><td>-0.27617557 </td><td> 0.211647398</td><td>-0.025417153</td><td> 1.00000000 </td><td> 0.64193196 </td></tr>\n",
       "\t<tr><th scope=row>compn_curr</th><td> 0.04463295 </td><td>-0.11380047 </td><td> 0.663569961</td><td>-0.492829225</td><td> 0.64193196 </td><td> 1.00000000 </td></tr>\n",
       "</tbody>\n",
       "</table>\n"
      ],
      "text/latex": [
       "\\begin{tabular}{r|llllll}\n",
       "  & age & years\\_mem & sub\\_members & returned\\_orders & compn\\_prev & compn\\_curr\\\\\n",
       "\\hline\n",
       "\tage &  1.00000000  &  0.03603997  & -0.187913070 & -0.066803882 &  0.07667244  &  0.04463295 \\\\\n",
       "\tyears\\_mem &  0.03603997  &  1.00000000  &  0.011692799 &  0.123292422 & -0.27617557  & -0.11380047 \\\\\n",
       "\tsub\\_members & -0.18791307  &  0.01169280  &  1.000000000 & -0.005495489 &  0.21164740  &  0.66356996 \\\\\n",
       "\treturned\\_orders & -0.06680388  &  0.12329242  & -0.005495489 &  1.000000000 & -0.02541715  & -0.49282922 \\\\\n",
       "\tcompn\\_prev &  0.07667244  & -0.27617557  &  0.211647398 & -0.025417153 &  1.00000000  &  0.64193196 \\\\\n",
       "\tcompn\\_curr &  0.04463295  & -0.11380047  &  0.663569961 & -0.492829225 &  0.64193196  &  1.00000000 \\\\\n",
       "\\end{tabular}\n"
      ],
      "text/markdown": [
       "\n",
       "| <!--/--> | age | years_mem | sub_members | returned_orders | compn_prev | compn_curr | \n",
       "|---|---|---|---|---|---|\n",
       "| age |  1.00000000  |  0.03603997  | -0.187913070 | -0.066803882 |  0.07667244  |  0.04463295  | \n",
       "| years_mem |  0.03603997  |  1.00000000  |  0.011692799 |  0.123292422 | -0.27617557  | -0.11380047  | \n",
       "| sub_members | -0.18791307  |  0.01169280  |  1.000000000 | -0.005495489 |  0.21164740  |  0.66356996  | \n",
       "| returned_orders | -0.06680388  |  0.12329242  | -0.005495489 |  1.000000000 | -0.02541715  | -0.49282922  | \n",
       "| compn_prev |  0.07667244  | -0.27617557  |  0.211647398 | -0.025417153 |  1.00000000  |  0.64193196  | \n",
       "| compn_curr |  0.04463295  | -0.11380047  |  0.663569961 | -0.492829225 |  0.64193196  |  1.00000000  | \n",
       "\n",
       "\n"
      ],
      "text/plain": [
       "                age         years_mem   sub_members  returned_orders\n",
       "age              1.00000000  0.03603997 -0.187913070 -0.066803882   \n",
       "years_mem        0.03603997  1.00000000  0.011692799  0.123292422   \n",
       "sub_members     -0.18791307  0.01169280  1.000000000 -0.005495489   \n",
       "returned_orders -0.06680388  0.12329242 -0.005495489  1.000000000   \n",
       "compn_prev       0.07667244 -0.27617557  0.211647398 -0.025417153   \n",
       "compn_curr       0.04463295 -0.11380047  0.663569961 -0.492829225   \n",
       "                compn_prev  compn_curr \n",
       "age              0.07667244  0.04463295\n",
       "years_mem       -0.27617557 -0.11380047\n",
       "sub_members      0.21164740  0.66356996\n",
       "returned_orders -0.02541715 -0.49282922\n",
       "compn_prev       1.00000000  0.64193196\n",
       "compn_curr       0.64193196  1.00000000"
      ]
     },
     "metadata": {},
     "output_type": "display_data"
    },
    {
     "data": {
      "image/png": "[encoded data removed]",
      "text/plain": [
       "Plot with title \"\""
      ]
     },
     "metadata": {},
     "output_type": "display_data"
    }
   ],
   "source": [
    "sub_data = data[,c('age','years_mem','sub_members','returned_orders','compn_prev','compn_curr')]\n",
    "corr = cor(sub_data)\n",
    "corr\n",
    "\n",
    "\n",
    "corrplot(corr)"
   ]
  },
  {
   "cell_type": "code",
   "execution_count": 48,
   "metadata": {},
   "outputs": [
    {
     "data": {
      "text/html": [
       "<table>\n",
       "<thead><tr><th></th><th scope=col>age</th><th scope=col>years_mem</th><th scope=col>sub_members</th><th scope=col>returned_orders</th><th scope=col>compn_prev</th><th scope=col>compn_curr</th></tr></thead>\n",
       "<tbody>\n",
       "\t<tr><th scope=row>age</th><td> 1.00</td><td> 0.04</td><td>-0.19</td><td>-0.07</td><td> 0.08</td><td> 0.04</td></tr>\n",
       "\t<tr><th scope=row>years_mem</th><td> 0.04</td><td> 1.00</td><td> 0.01</td><td> 0.12</td><td>-0.28</td><td>-0.11</td></tr>\n",
       "\t<tr><th scope=row>sub_members</th><td>-0.19</td><td> 0.01</td><td> 1.00</td><td>-0.01</td><td> 0.21</td><td> 0.66</td></tr>\n",
       "\t<tr><th scope=row>returned_orders</th><td>-0.07</td><td> 0.12</td><td>-0.01</td><td> 1.00</td><td>-0.03</td><td>-0.49</td></tr>\n",
       "\t<tr><th scope=row>compn_prev</th><td> 0.08</td><td>-0.28</td><td> 0.21</td><td>-0.03</td><td> 1.00</td><td> 0.64</td></tr>\n",
       "\t<tr><th scope=row>compn_curr</th><td> 0.04</td><td>-0.11</td><td> 0.66</td><td>-0.49</td><td> 0.64</td><td> 1.00</td></tr>\n",
       "</tbody>\n",
       "</table>\n"
      ],
      "text/latex": [
       "\\begin{tabular}{r|llllll}\n",
       "  & age & years\\_mem & sub\\_members & returned\\_orders & compn\\_prev & compn\\_curr\\\\\n",
       "\\hline\n",
       "\tage &  1.00 &  0.04 & -0.19 & -0.07 &  0.08 &  0.04\\\\\n",
       "\tyears\\_mem &  0.04 &  1.00 &  0.01 &  0.12 & -0.28 & -0.11\\\\\n",
       "\tsub\\_members & -0.19 &  0.01 &  1.00 & -0.01 &  0.21 &  0.66\\\\\n",
       "\treturned\\_orders & -0.07 &  0.12 & -0.01 &  1.00 & -0.03 & -0.49\\\\\n",
       "\tcompn\\_prev &  0.08 & -0.28 &  0.21 & -0.03 &  1.00 &  0.64\\\\\n",
       "\tcompn\\_curr &  0.04 & -0.11 &  0.66 & -0.49 &  0.64 &  1.00\\\\\n",
       "\\end{tabular}\n"
      ],
      "text/markdown": [
       "\n",
       "| <!--/--> | age | years_mem | sub_members | returned_orders | compn_prev | compn_curr | \n",
       "|---|---|---|---|---|---|\n",
       "| age |  1.00 |  0.04 | -0.19 | -0.07 |  0.08 |  0.04 | \n",
       "| years_mem |  0.04 |  1.00 |  0.01 |  0.12 | -0.28 | -0.11 | \n",
       "| sub_members | -0.19 |  0.01 |  1.00 | -0.01 |  0.21 |  0.66 | \n",
       "| returned_orders | -0.07 |  0.12 | -0.01 |  1.00 | -0.03 | -0.49 | \n",
       "| compn_prev |  0.08 | -0.28 |  0.21 | -0.03 |  1.00 |  0.64 | \n",
       "| compn_curr |  0.04 | -0.11 |  0.66 | -0.49 |  0.64 |  1.00 | \n",
       "\n",
       "\n"
      ],
      "text/plain": [
       "                age   years_mem sub_members returned_orders compn_prev\n",
       "age              1.00  0.04     -0.19       -0.07            0.08     \n",
       "years_mem        0.04  1.00      0.01        0.12           -0.28     \n",
       "sub_members     -0.19  0.01      1.00       -0.01            0.21     \n",
       "returned_orders -0.07  0.12     -0.01        1.00           -0.03     \n",
       "compn_prev       0.08 -0.28      0.21       -0.03            1.00     \n",
       "compn_curr       0.04 -0.11      0.66       -0.49            0.64     \n",
       "                compn_curr\n",
       "age              0.04     \n",
       "years_mem       -0.11     \n",
       "sub_members      0.66     \n",
       "returned_orders -0.49     \n",
       "compn_prev       0.64     \n",
       "compn_curr       1.00     "
      ]
     },
     "metadata": {},
     "output_type": "display_data"
    },
    {
     "data": {
      "image/png": "[encoded data removed]",
      "text/plain": [
       "Plot with title \"\""
      ]
     },
     "metadata": {},
     "output_type": "display_data"
    }
   ],
   "source": [
    "sub_data = data[,c('age','years_mem','sub_members','returned_orders','compn_prev','compn_curr')]\n",
    "corr = cor(sub_data)\n",
    "round(corr,2)\n",
    "\n",
    "par(cex = 0.7)\n",
    "corrplot(corr, type = \"upper\", tl.col = \"black\", tl.srt = 45,method = \"color\", addCoef.col=\"grey\", order = \"AOE\")"
   ]
  },
  {
   "cell_type": "markdown",
   "metadata": {},
   "source": [
    "### Plotting Scatters"
   ]
  },
  {
   "cell_type": "code",
   "execution_count": 94,
   "metadata": {},
   "outputs": [
    {
     "data": {
      "image/png": "[encoded data removed]",
      "text/plain": [
       "plot without title"
      ]
     },
     "metadata": {},
     "output_type": "display_data"
    }
   ],
   "source": [
    "\n",
    "options(repr.plot.width=6, repr.plot.height=4)\n",
    "plot1 <- ggplot(sub_data, aes(x=age, y=compn_curr)) +  geom_point()\n",
    "plot2 <- ggplot(sub_data, aes(x=years_mem, y=compn_curr)) +  geom_point()\n",
    "plot3 <- ggplot(sub_data, aes(x=sub_members, y=compn_curr)) +  geom_point()\n",
    "plot4 <- ggplot(sub_data, aes(x=returned_orders, y=compn_curr)) +  geom_point()\n",
    "plot5 <- ggplot(sub_data, aes(x=compn_prev, y=compn_curr)) +  geom_point()\n",
    "grid.arrange(plot1, plot2,plot3,plot4,plot5,ncol=3,nrow=2)\n",
    "\n"
   ]
  },
  {
   "cell_type": "markdown",
   "metadata": {},
   "source": [
    "### Exploring Categorical Variables"
   ]
  },
  {
   "cell_type": "code",
   "execution_count": 96,
   "metadata": {},
   "outputs": [
    {
     "data": {
      "text/html": [
       "<ol class=list-inline>\n",
       "\t<li>'higher'</li>\n",
       "\t<li>'lower'</li>\n",
       "\t<li>'medium'</li>\n",
       "</ol>\n"
      ],
      "text/latex": [
       "\\begin{enumerate*}\n",
       "\\item 'higher'\n",
       "\\item 'lower'\n",
       "\\item 'medium'\n",
       "\\end{enumerate*}\n"
      ],
      "text/markdown": [
       "1. 'higher'\n",
       "2. 'lower'\n",
       "3. 'medium'\n",
       "\n",
       "\n"
      ],
      "text/plain": [
       "[1] \"higher\" \"lower\"  \"medium\""
      ]
     },
     "metadata": {},
     "output_type": "display_data"
    },
    {
     "data": {
      "text/html": [
       "<ol class=list-inline>\n",
       "\t<li>'DE'</li>\n",
       "\t<li>'SF'</li>\n",
       "\t<li>'TX'</li>\n",
       "\t<li>'WA'</li>\n",
       "</ol>\n"
      ],
      "text/latex": [
       "\\begin{enumerate*}\n",
       "\\item 'DE'\n",
       "\\item 'SF'\n",
       "\\item 'TX'\n",
       "\\item 'WA'\n",
       "\\end{enumerate*}\n"
      ],
      "text/markdown": [
       "1. 'DE'\n",
       "2. 'SF'\n",
       "3. 'TX'\n",
       "4. 'WA'\n",
       "\n",
       "\n"
      ],
      "text/plain": [
       "[1] \"DE\" \"SF\" \"TX\" \"WA\""
      ]
     },
     "metadata": {},
     "output_type": "display_data"
    }
   ],
   "source": [
    "levels(data$education)\n",
    "levels(data$Location)"
   ]
  },
  {
   "cell_type": "code",
   "execution_count": 109,
   "metadata": {},
   "outputs": [
    {
     "data": {
      "image/png": "[encoded data removed]",
      "text/plain": [
       "plot without title"
      ]
     },
     "metadata": {},
     "output_type": "display_data"
    }
   ],
   "source": [
    "options(repr.plot.width=15, repr.plot.height=4)\n",
    "plot1 = ggplot(data) + geom_bar(aes(education, compn_curr, fill = as.factor(education)), \n",
    "           position = \"dodge\", stat = \"summary\", fun.y = \"mean\")\n",
    "plot2 = ggplot(data) + geom_bar(aes(Location, compn_curr, fill = as.factor(Location)), \n",
    "           position = \"dodge\", stat = \"summary\", fun.y = \"mean\")\n",
    "plot3 = ggplot(data) + geom_bar(aes(commitment, compn_curr, fill = as.factor(commitment)), \n",
    "           position = \"dodge\", stat = \"summary\", fun.y = \"mean\")\n",
    "\n",
    "grid.arrange(plot1, plot2,plot3,ncol=3)"
   ]
  },
  {
   "cell_type": "markdown",
   "metadata": {},
   "source": [
    "### Linear Regression \n",
    "We are creating a linear regression model to predict out target variable i.e. compn_curr. There are other techniques available but we focus on Linear regression currently."
   ]
  },
  {
   "cell_type": "code",
   "execution_count": 112,
   "metadata": {},
   "outputs": [
    {
     "data": {
      "text/plain": [
       "\n",
       "Call:\n",
       "lm(formula = compn_curr ~ age + as.factor(education) + as.factor(Location) + \n",
       "    years_mem + sub_members + as.factor(commitment) + returned_orders + \n",
       "    compn_prev, data = data)\n",
       "\n",
       "Residuals:\n",
       "    Min      1Q  Median      3Q     Max \n",
       "-18.344  -5.598  -1.104   6.189  18.748 \n",
       "\n",
       "Coefficients:\n",
       "                             Estimate Std. Error t value Pr(>|t|)    \n",
       "(Intercept)                 4.170e+02  1.336e+01  31.212  < 2e-16 ***\n",
       "age                         2.708e-01  2.927e-01   0.925   0.3606    \n",
       "as.factor(education)lower  -2.887e+01  3.941e+00  -7.325 8.97e-09 ***\n",
       "as.factor(education)medium -1.895e+01  4.122e+00  -4.598 4.63e-05 ***\n",
       "as.factor(Location)SF      -3.028e+00  4.679e+00  -0.647   0.5214    \n",
       "as.factor(Location)TX       8.840e+00  4.713e+00   1.876   0.0684 .  \n",
       "as.factor(Location)WA       2.386e+00  4.807e+00   0.496   0.6225    \n",
       "years_mem                   5.184e+00  4.948e-01  10.477 9.21e-13 ***\n",
       "sub_members                 2.134e+01  2.675e-01  79.754  < 2e-16 ***\n",
       "as.factor(commitment)P     -1.245e+02  3.571e+00 -34.863  < 2e-16 ***\n",
       "returned_orders            -7.273e-01  1.191e-02 -61.058  < 2e-16 ***\n",
       "compn_prev                  3.732e-01  5.695e-03  65.523  < 2e-16 ***\n",
       "---\n",
       "Signif. codes:  0 '***' 0.001 '**' 0.01 '*' 0.05 '.' 0.1 ' ' 1\n",
       "\n",
       "Residual standard error: 10.77 on 38 degrees of freedom\n",
       "Multiple R-squared:  0.9985,\tAdjusted R-squared:  0.9981 \n",
       "F-statistic:  2293 on 11 and 38 DF,  p-value: < 2.2e-16\n"
      ]
     },
     "metadata": {},
     "output_type": "display_data"
    }
   ],
   "source": [
    "model1 = lm(compn_curr~age+as.factor(education)+as.factor(Location)+years_mem+sub_members+as.factor(commitment)+\n",
    "   returned_orders+compn_prev,data=data)\n",
    "\n",
    "summary(model1)"
   ]
  },
  {
   "cell_type": "markdown",
   "metadata": {},
   "source": [
    "As we see that **\"Age\"** is not a significant variable in model1 we will exclude this variable and create a new model below.\n",
    "\n",
    "A variable is significant when its **Pr(>|t|)** is less that **0.05**."
   ]
  },
  {
   "cell_type": "code",
   "execution_count": 115,
   "metadata": {},
   "outputs": [
    {
     "data": {
      "text/plain": [
       "\n",
       "Call:\n",
       "lm(formula = compn_curr ~ as.factor(education) + as.factor(Location) + \n",
       "    years_mem + sub_members + as.factor(commitment) + returned_orders + \n",
       "    compn_prev, data = data)\n",
       "\n",
       "Residuals:\n",
       "    Min      1Q  Median      3Q     Max \n",
       "-18.479  -5.923  -1.187   6.820  17.919 \n",
       "\n",
       "Coefficients:\n",
       "                             Estimate Std. Error t value Pr(>|t|)    \n",
       "(Intercept)                 4.281e+02  5.988e+00  71.488  < 2e-16 ***\n",
       "as.factor(education)lower  -2.895e+01  3.933e+00  -7.361 6.88e-09 ***\n",
       "as.factor(education)medium -1.926e+01  4.101e+00  -4.696 3.25e-05 ***\n",
       "as.factor(Location)SF      -2.486e+00  4.634e+00  -0.537   0.5947    \n",
       "as.factor(Location)TX       7.622e+00  4.517e+00   1.687   0.0995 .  \n",
       "as.factor(Location)WA       1.345e+00  4.665e+00   0.288   0.7747    \n",
       "years_mem                   5.262e+00  4.866e-01  10.813 2.67e-13 ***\n",
       "sub_members                 2.130e+01  2.640e-01  80.683  < 2e-16 ***\n",
       "as.factor(commitment)P     -1.257e+02  3.313e+00 -37.956  < 2e-16 ***\n",
       "returned_orders            -7.276e-01  1.189e-02 -61.220  < 2e-16 ***\n",
       "compn_prev                  3.737e-01  5.661e-03  66.013  < 2e-16 ***\n",
       "---\n",
       "Signif. codes:  0 '***' 0.001 '**' 0.01 '*' 0.05 '.' 0.1 ' ' 1\n",
       "\n",
       "Residual standard error: 10.75 on 39 degrees of freedom\n",
       "Multiple R-squared:  0.9985,\tAdjusted R-squared:  0.9981 \n",
       "F-statistic:  2532 on 10 and 39 DF,  p-value: < 2.2e-16\n"
      ]
     },
     "metadata": {},
     "output_type": "display_data"
    }
   ],
   "source": [
    "model2 = lm(compn_curr~as.factor(education)+as.factor(Location)+years_mem+sub_members+as.factor(commitment)+\n",
    "   returned_orders+compn_prev,data=data)\n",
    "\n",
    "summary(model2)\n"
   ]
  },
  {
   "cell_type": "markdown",
   "metadata": {},
   "source": [
    "### Model Performance \n",
    "#### Residual Plots"
   ]
  },
  {
   "cell_type": "code",
   "execution_count": 126,
   "metadata": {},
   "outputs": [
    {
     "data": {
      "image/png": "[encoded data removed]",
      "text/plain": [
       "Plot with title \"\""
      ]
     },
     "metadata": {},
     "output_type": "display_data"
    }
   ],
   "source": [
    "options(repr.plot.width=8, repr.plot.height=6)\n",
    "par(mfrow=c(2,2))\n",
    "plot(model2)"
   ]
  },
  {
   "cell_type": "markdown",
   "metadata": {},
   "source": [
    "### Predictions using the model "
   ]
  },
  {
   "cell_type": "code",
   "execution_count": 140,
   "metadata": {},
   "outputs": [
    {
     "data": {
      "text/html": [
       "<table>\n",
       "<thead><tr><th scope=col>Actual</th><th scope=col>Fitted</th><th scope=col>Error</th></tr></thead>\n",
       "<tbody>\n",
       "\t<tr><td>731.0740 </td><td>726.5875 </td><td> 4.486489</td></tr>\n",
       "\t<tr><td>755.6294 </td><td>744.7359 </td><td>10.893546</td></tr>\n",
       "\t<tr><td>545.5058 </td><td>550.4473 </td><td>-4.941564</td></tr>\n",
       "\t<tr><td>456.3678 </td><td>450.4573 </td><td> 5.910491</td></tr>\n",
       "\t<tr><td>813.7908 </td><td>806.1303 </td><td> 7.660431</td></tr>\n",
       "\t<tr><td>668.4394 </td><td>654.4894 </td><td>13.950007</td></tr>\n",
       "</tbody>\n",
       "</table>\n"
      ],
      "text/latex": [
       "\\begin{tabular}{r|lll}\n",
       " Actual & Fitted & Error\\\\\n",
       "\\hline\n",
       "\t 731.0740  & 726.5875  &  4.486489\\\\\n",
       "\t 755.6294  & 744.7359  & 10.893546\\\\\n",
       "\t 545.5058  & 550.4473  & -4.941564\\\\\n",
       "\t 456.3678  & 450.4573  &  5.910491\\\\\n",
       "\t 813.7908  & 806.1303  &  7.660431\\\\\n",
       "\t 668.4394  & 654.4894  & 13.950007\\\\\n",
       "\\end{tabular}\n"
      ],
      "text/markdown": [
       "\n",
       "Actual | Fitted | Error | \n",
       "|---|---|---|---|---|---|\n",
       "| 731.0740  | 726.5875  |  4.486489 | \n",
       "| 755.6294  | 744.7359  | 10.893546 | \n",
       "| 545.5058  | 550.4473  | -4.941564 | \n",
       "| 456.3678  | 450.4573  |  5.910491 | \n",
       "| 813.7908  | 806.1303  |  7.660431 | \n",
       "| 668.4394  | 654.4894  | 13.950007 | \n",
       "\n",
       "\n"
      ],
      "text/plain": [
       "  Actual   Fitted   Error    \n",
       "1 731.0740 726.5875  4.486489\n",
       "2 755.6294 744.7359 10.893546\n",
       "3 545.5058 550.4473 -4.941564\n",
       "4 456.3678 450.4573  5.910491\n",
       "5 813.7908 806.1303  7.660431\n",
       "6 668.4394 654.4894 13.950007"
      ]
     },
     "metadata": {},
     "output_type": "display_data"
    },
    {
     "name": "stdout",
     "output_type": "stream",
     "text": [
      "[1] \"Root Mean Square Error:  9.4953\"\n"
     ]
    }
   ],
   "source": [
    "pred_result=cbind.data.frame(Actual=data$compn_curr,Fitted=fitted(model2),Error=residuals(model2))\n",
    "head(pred_result)\n",
    "\n",
    "rmse_train=sqrt(mean(pred_result$Error^2))\n",
    "print(paste(\"Root Mean Square Error: \",as.character(round(rmse_train,4))))"
   ]
  },
  {
   "cell_type": "markdown",
   "metadata": {},
   "source": [
    "### Plotting Predictions and Errors "
   ]
  },
  {
   "cell_type": "code",
   "execution_count": 151,
   "metadata": {},
   "outputs": [
    {
     "data": {
      "image/png": "[encoded data removed]",
      "text/plain": [
       "plot without title"
      ]
     },
     "metadata": {},
     "output_type": "display_data"
    }
   ],
   "source": [
    "options(repr.plot.width=6, repr.plot.height=3)\n",
    "\n",
    "plot1= ggplot(pred_result,aes(x=Fitted,y=Error))+geom_point()\n",
    "plot2 = ggplot(pred_result,aes(x=Fitted,y=Fitted))+geom_point()\n",
    "grid.arrange(plot1, plot2,ncol=2)"
   ]
  }
 ],
 "metadata": {
  "kernelspec": {
   "display_name": "R",
   "language": "R",
   "name": "ir"
  },
  "language_info": {
   "codemirror_mode": "r",
   "file_extension": ".r",
   "mimetype": "text/x-r-source",
   "name": "R",
   "pygments_lexer": "r",
   "version": "3.4.2"
  }
 },
 "nbformat": 4,
 "nbformat_minor": 2
}
