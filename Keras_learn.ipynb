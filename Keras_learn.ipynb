{
 "cells": [
  {
   "cell_type": "code",
   "execution_count": 18,
   "metadata": {},
   "outputs": [],
   "source": [
    "import keras\n",
    "from keras.models import Sequential\n",
    "from keras.layers import Dense, Activation, Dropout\n",
    "import numpy as np\n",
    "from keras.optimizers import SGD"
   ]
  },
  {
   "cell_type": "code",
   "execution_count": 2,
   "metadata": {},
   "outputs": [
    {
     "name": "stdout",
     "output_type": "stream",
     "text": [
      "_________________________________________________________________\n",
      "Layer (type)                 Output Shape              Param #   \n",
      "=================================================================\n",
      "dense_1 (Dense)              (None, 32)                3232      \n",
      "_________________________________________________________________\n",
      "dense_2 (Dense)              (None, 1)                 33        \n",
      "=================================================================\n",
      "Total params: 3,265.0\n",
      "Trainable params: 3,265\n",
      "Non-trainable params: 0.0\n",
      "_________________________________________________________________\n"
     ]
    }
   ],
   "source": [
    "model = Sequential()\n",
    "model.add(Dense(32, activation='relu',input_dim=100))\n",
    "model.add(Dense(1,activation='sigmoid'))\n",
    "model.compile(optimizer=\"rmsprop\",loss=\"binary_crossentropy\",metrics=['accuracy'])\n",
    "model.summary()"
   ]
  },
  {
   "cell_type": "code",
   "execution_count": 3,
   "metadata": {},
   "outputs": [],
   "source": [
    "data = np.random.random((1000,100))\n",
    "labels = np.random.randint(2,size=(1000,1))"
   ]
  },
  {
   "cell_type": "code",
   "execution_count": 4,
   "metadata": {},
   "outputs": [
    {
     "name": "stdout",
     "output_type": "stream",
     "text": [
      "Epoch 1/10\n",
      "1000/1000 [==============================] - 0s - loss: 0.7166 - acc: 0.4660     \n",
      "Epoch 2/10\n",
      "1000/1000 [==============================] - 0s - loss: 0.7035 - acc: 0.4920     \n",
      "Epoch 3/10\n",
      "1000/1000 [==============================] - 0s - loss: 0.6954 - acc: 0.5160     \n",
      "Epoch 4/10\n",
      "1000/1000 [==============================] - 0s - loss: 0.6914 - acc: 0.5160     \n",
      "Epoch 5/10\n",
      "1000/1000 [==============================] - 0s - loss: 0.6822 - acc: 0.5460     \n",
      "Epoch 6/10\n",
      "1000/1000 [==============================] - 0s - loss: 0.6815 - acc: 0.5760     \n",
      "Epoch 7/10\n",
      "1000/1000 [==============================] - 0s - loss: 0.6759 - acc: 0.5780     \n",
      "Epoch 8/10\n",
      "1000/1000 [==============================] - 0s - loss: 0.6738 - acc: 0.5800     \n",
      "Epoch 9/10\n",
      "1000/1000 [==============================] - 0s - loss: 0.6685 - acc: 0.5960     \n",
      "Epoch 10/10\n",
      "1000/1000 [==============================] - 0s - loss: 0.6677 - acc: 0.5970     \n"
     ]
    },
    {
     "data": {
      "text/plain": [
       "<keras.callbacks.History at 0x1f1e55204e0>"
      ]
     },
     "execution_count": 4,
     "metadata": {},
     "output_type": "execute_result"
    }
   ],
   "source": [
    "model.fit(data,labels,epochs=10,batch_size=32)"
   ]
  },
  {
   "cell_type": "code",
   "execution_count": 15,
   "metadata": {},
   "outputs": [
    {
     "name": "stdout",
     "output_type": "stream",
     "text": [
      "[[0.39144886]]\n",
      "[1]\n"
     ]
    }
   ],
   "source": [
    "print(model.predict(data[110].reshape((1,100))))\n",
    "print(labels[110])"
   ]
  },
  {
   "cell_type": "markdown",
   "metadata": {},
   "source": [
    "## Multilayer Perceptron (MLP) for multi-class softmax classification:"
   ]
  },
  {
   "cell_type": "code",
   "execution_count": 19,
   "metadata": {},
   "outputs": [
    {
     "name": "stdout",
     "output_type": "stream",
     "text": [
      "_________________________________________________________________\n",
      "Layer (type)                 Output Shape              Param #   \n",
      "=================================================================\n",
      "dense_3 (Dense)              (None, 64)                1344      \n",
      "_________________________________________________________________\n",
      "dropout_1 (Dropout)          (None, 64)                0         \n",
      "_________________________________________________________________\n",
      "dense_4 (Dense)              (None, 64)                4160      \n",
      "_________________________________________________________________\n",
      "dropout_2 (Dropout)          (None, 64)                0         \n",
      "_________________________________________________________________\n",
      "dense_5 (Dense)              (None, 10)                650       \n",
      "=================================================================\n",
      "Total params: 6,154.0\n",
      "Trainable params: 6,154.0\n",
      "Non-trainable params: 0.0\n",
      "_________________________________________________________________\n",
      "Epoch 1/100\n",
      "1000/1000 [==============================] - 0s - loss: 2.3681 - acc: 0.0960     \n",
      "Epoch 2/100\n",
      "1000/1000 [==============================] - 0s - loss: 2.3236 - acc: 0.1050     \n",
      "Epoch 3/100\n",
      "1000/1000 [==============================] - 0s - loss: 2.3059 - acc: 0.1130     \n",
      "Epoch 4/100\n",
      "1000/1000 [==============================] - 0s - loss: 2.3128 - acc: 0.0980     \n",
      "Epoch 5/100\n",
      "1000/1000 [==============================] - 0s - loss: 2.3109 - acc: 0.0960     \n",
      "Epoch 6/100\n",
      "1000/1000 [==============================] - 0s - loss: 2.3024 - acc: 0.1150     \n",
      "Epoch 7/100\n",
      "1000/1000 [==============================] - 0s - loss: 2.3016 - acc: 0.1170     \n",
      "Epoch 8/100\n",
      "1000/1000 [==============================] - 0s - loss: 2.2985 - acc: 0.1220     \n",
      "Epoch 9/100\n",
      "1000/1000 [==============================] - 0s - loss: 2.3020 - acc: 0.1170     \n",
      "Epoch 10/100\n",
      "1000/1000 [==============================] - 0s - loss: 2.3018 - acc: 0.1100     \n",
      "Epoch 11/100\n",
      "1000/1000 [==============================] - 0s - loss: 2.2996 - acc: 0.0990     \n",
      "Epoch 12/100\n",
      "1000/1000 [==============================] - 0s - loss: 2.2984 - acc: 0.1190     \n",
      "Epoch 13/100\n",
      "1000/1000 [==============================] - 0s - loss: 2.2989 - acc: 0.1250     \n",
      "Epoch 14/100\n",
      "1000/1000 [==============================] - 0s - loss: 2.2982 - acc: 0.1100     \n",
      "Epoch 15/100\n",
      "1000/1000 [==============================] - 0s - loss: 2.2971 - acc: 0.1080     \n",
      "Epoch 16/100\n",
      "1000/1000 [==============================] - 0s - loss: 2.3027 - acc: 0.0990     \n",
      "Epoch 17/100\n",
      "1000/1000 [==============================] - 0s - loss: 2.2980 - acc: 0.1050     \n",
      "Epoch 18/100\n",
      "1000/1000 [==============================] - 0s - loss: 2.2993 - acc: 0.1110     \n",
      "Epoch 19/100\n",
      "1000/1000 [==============================] - 0s - loss: 2.2892 - acc: 0.1170     \n",
      "Epoch 20/100\n",
      "1000/1000 [==============================] - 0s - loss: 2.2992 - acc: 0.1140     \n",
      "Epoch 21/100\n",
      "1000/1000 [==============================] - 0s - loss: 2.2947 - acc: 0.1270     \n",
      "Epoch 22/100\n",
      "1000/1000 [==============================] - 0s - loss: 2.2969 - acc: 0.1190     \n",
      "Epoch 23/100\n",
      "1000/1000 [==============================] - 0s - loss: 2.2956 - acc: 0.1240     \n",
      "Epoch 24/100\n",
      "1000/1000 [==============================] - 0s - loss: 2.2910 - acc: 0.1330     \n",
      "Epoch 25/100\n",
      "1000/1000 [==============================] - 0s - loss: 2.2925 - acc: 0.1370     \n",
      "Epoch 26/100\n",
      "1000/1000 [==============================] - 0s - loss: 2.2940 - acc: 0.1200     \n",
      "Epoch 27/100\n",
      "1000/1000 [==============================] - 0s - loss: 2.2933 - acc: 0.1330     \n",
      "Epoch 28/100\n",
      "1000/1000 [==============================] - 0s - loss: 2.2932 - acc: 0.1250     \n",
      "Epoch 29/100\n",
      "1000/1000 [==============================] - 0s - loss: 2.2910 - acc: 0.1290     \n",
      "Epoch 30/100\n",
      "1000/1000 [==============================] - 0s - loss: 2.2891 - acc: 0.1450     \n",
      "Epoch 31/100\n",
      "1000/1000 [==============================] - 0s - loss: 2.2962 - acc: 0.1160     \n",
      "Epoch 32/100\n",
      "1000/1000 [==============================] - 0s - loss: 2.2839 - acc: 0.1320     \n",
      "Epoch 33/100\n",
      "1000/1000 [==============================] - 0s - loss: 2.2908 - acc: 0.1290     \n",
      "Epoch 34/100\n",
      "1000/1000 [==============================] - 0s - loss: 2.2881 - acc: 0.1360     \n",
      "Epoch 35/100\n",
      "1000/1000 [==============================] - 0s - loss: 2.2920 - acc: 0.1270     \n",
      "Epoch 36/100\n",
      "1000/1000 [==============================] - 0s - loss: 2.2922 - acc: 0.1230     \n",
      "Epoch 37/100\n",
      "1000/1000 [==============================] - 0s - loss: 2.2900 - acc: 0.1270     \n",
      "Epoch 38/100\n",
      "1000/1000 [==============================] - 0s - loss: 2.2879 - acc: 0.1300     \n",
      "Epoch 39/100\n",
      "1000/1000 [==============================] - 0s - loss: 2.2848 - acc: 0.1460     \n",
      "Epoch 40/100\n",
      "1000/1000 [==============================] - 0s - loss: 2.2821 - acc: 0.1420     \n",
      "Epoch 41/100\n",
      "1000/1000 [==============================] - 0s - loss: 2.2862 - acc: 0.1260     \n",
      "Epoch 42/100\n",
      "1000/1000 [==============================] - 0s - loss: 2.2772 - acc: 0.1400     \n",
      "Epoch 43/100\n",
      "1000/1000 [==============================] - 0s - loss: 2.2952 - acc: 0.1100     \n",
      "Epoch 44/100\n",
      "1000/1000 [==============================] - 0s - loss: 2.2887 - acc: 0.1310     \n",
      "Epoch 45/100\n",
      "1000/1000 [==============================] - 0s - loss: 2.2842 - acc: 0.1420     \n",
      "Epoch 46/100\n",
      "1000/1000 [==============================] - 0s - loss: 2.2808 - acc: 0.1410     \n",
      "Epoch 47/100\n",
      "1000/1000 [==============================] - 0s - loss: 2.2877 - acc: 0.1220     \n",
      "Epoch 48/100\n",
      "1000/1000 [==============================] - 0s - loss: 2.2797 - acc: 0.1580     \n",
      "Epoch 49/100\n",
      "1000/1000 [==============================] - 0s - loss: 2.2768 - acc: 0.1410     \n",
      "Epoch 50/100\n",
      "1000/1000 [==============================] - 0s - loss: 2.2891 - acc: 0.1240     \n",
      "Epoch 51/100\n",
      "1000/1000 [==============================] - 0s - loss: 2.2850 - acc: 0.1140     \n",
      "Epoch 52/100\n",
      "1000/1000 [==============================] - 0s - loss: 2.2813 - acc: 0.1340     \n",
      "Epoch 53/100\n",
      "1000/1000 [==============================] - 0s - loss: 2.2805 - acc: 0.1640     \n",
      "Epoch 54/100\n",
      "1000/1000 [==============================] - 0s - loss: 2.2782 - acc: 0.1380     \n",
      "Epoch 55/100\n",
      "1000/1000 [==============================] - 0s - loss: 2.2781 - acc: 0.1390     \n",
      "Epoch 56/100\n",
      "1000/1000 [==============================] - 0s - loss: 2.2747 - acc: 0.1280     \n",
      "Epoch 57/100\n",
      "1000/1000 [==============================] - 0s - loss: 2.2792 - acc: 0.1420     \n",
      "Epoch 58/100\n",
      "1000/1000 [==============================] - 0s - loss: 2.2819 - acc: 0.1320     \n",
      "Epoch 59/100\n",
      "1000/1000 [==============================] - 0s - loss: 2.2765 - acc: 0.1570     \n",
      "Epoch 60/100\n",
      "1000/1000 [==============================] - 0s - loss: 2.2799 - acc: 0.1480     \n",
      "Epoch 61/100\n",
      "1000/1000 [==============================] - 0s - loss: 2.2687 - acc: 0.1290     \n",
      "Epoch 62/100\n",
      "1000/1000 [==============================] - 0s - loss: 2.2706 - acc: 0.1460     \n",
      "Epoch 63/100\n",
      "1000/1000 [==============================] - 0s - loss: 2.2687 - acc: 0.1360     \n",
      "Epoch 64/100\n",
      "1000/1000 [==============================] - 0s - loss: 2.2734 - acc: 0.1380     \n",
      "Epoch 65/100\n",
      "1000/1000 [==============================] - 0s - loss: 2.2672 - acc: 0.1690     \n",
      "Epoch 66/100\n",
      "1000/1000 [==============================] - 0s - loss: 2.2695 - acc: 0.1420     \n",
      "Epoch 67/100\n",
      "1000/1000 [==============================] - 0s - loss: 2.2640 - acc: 0.1460     \n",
      "Epoch 68/100\n",
      "1000/1000 [==============================] - 0s - loss: 2.2635 - acc: 0.1440     \n",
      "Epoch 69/100\n",
      "1000/1000 [==============================] - 0s - loss: 2.2667 - acc: 0.1390     \n",
      "Epoch 70/100\n",
      "1000/1000 [==============================] - 0s - loss: 2.2719 - acc: 0.1430     \n",
      "Epoch 71/100\n",
      "1000/1000 [==============================] - 0s - loss: 2.2681 - acc: 0.1550     \n",
      "Epoch 72/100\n",
      "1000/1000 [==============================] - 0s - loss: 2.2571 - acc: 0.1510     \n",
      "Epoch 73/100\n",
      "1000/1000 [==============================] - 0s - loss: 2.2588 - acc: 0.1580     \n",
      "Epoch 74/100\n",
      "1000/1000 [==============================] - 0s - loss: 2.2546 - acc: 0.1560     \n",
      "Epoch 75/100\n",
      "1000/1000 [==============================] - 0s - loss: 2.2508 - acc: 0.1560     \n",
      "Epoch 76/100\n",
      "1000/1000 [==============================] - 0s - loss: 2.2552 - acc: 0.1600     \n",
      "Epoch 77/100\n",
      "1000/1000 [==============================] - 0s - loss: 2.2554 - acc: 0.1670     \n",
      "Epoch 78/100\n",
      "1000/1000 [==============================] - 0s - loss: 2.2533 - acc: 0.1540     \n",
      "Epoch 79/100\n",
      "1000/1000 [==============================] - 0s - loss: 2.2563 - acc: 0.1620     \n",
      "Epoch 80/100\n",
      "1000/1000 [==============================] - 0s - loss: 2.2663 - acc: 0.1400     \n",
      "Epoch 81/100\n",
      "1000/1000 [==============================] - 0s - loss: 2.2583 - acc: 0.1550     \n",
      "Epoch 82/100\n",
      "1000/1000 [==============================] - 0s - loss: 2.2620 - acc: 0.1520     \n",
      "Epoch 83/100\n",
      "1000/1000 [==============================] - 0s - loss: 2.2413 - acc: 0.1770     \n",
      "Epoch 84/100\n",
      "1000/1000 [==============================] - 0s - loss: 2.2521 - acc: 0.1450     \n",
      "Epoch 85/100\n",
      "1000/1000 [==============================] - 0s - loss: 2.2567 - acc: 0.1500     \n",
      "Epoch 86/100\n",
      "1000/1000 [==============================] - 0s - loss: 2.2442 - acc: 0.1630     \n",
      "Epoch 87/100\n",
      "1000/1000 [==============================] - 0s - loss: 2.2494 - acc: 0.1610     \n",
      "Epoch 88/100\n",
      "1000/1000 [==============================] - 0s - loss: 2.2329 - acc: 0.1590     \n",
      "Epoch 89/100\n",
      "1000/1000 [==============================] - 0s - loss: 2.2489 - acc: 0.1810     \n",
      "Epoch 90/100\n",
      "1000/1000 [==============================] - 0s - loss: 2.2579 - acc: 0.1570     \n",
      "Epoch 91/100\n",
      "1000/1000 [==============================] - 0s - loss: 2.2339 - acc: 0.1590     \n",
      "Epoch 92/100\n",
      "1000/1000 [==============================] - 0s - loss: 2.2369 - acc: 0.1660     \n",
      "Epoch 93/100\n",
      "1000/1000 [==============================] - 0s - loss: 2.2521 - acc: 0.1590     \n",
      "Epoch 94/100\n",
      "1000/1000 [==============================] - 0s - loss: 2.2361 - acc: 0.1630     \n",
      "Epoch 95/100\n",
      "1000/1000 [==============================] - 0s - loss: 2.2262 - acc: 0.1630     \n",
      "Epoch 96/100\n",
      "1000/1000 [==============================] - 0s - loss: 2.2371 - acc: 0.1750     \n",
      "Epoch 97/100\n",
      "1000/1000 [==============================] - 0s - loss: 2.2463 - acc: 0.1530     \n",
      "Epoch 98/100\n",
      "1000/1000 [==============================] - 0s - loss: 2.2273 - acc: 0.1790     \n",
      "Epoch 99/100\n",
      "1000/1000 [==============================] - 0s - loss: 2.2360 - acc: 0.1500     \n",
      "Epoch 100/100\n",
      "1000/1000 [==============================] - 0s - loss: 2.2281 - acc: 0.1760     \n",
      " 32/100 [========>.....................] - ETA: 0s[2.308856735229492, 0.13]\n"
     ]
    }
   ],
   "source": [
    "x_train = np.random.random((1000,20))\n",
    "y_train = keras.utils.to_categorical(np.random.randint(10,size=(1000,1)),num_classes=10)\n",
    "x_test = np.random.random((100,20))\n",
    "y_test = keras.utils.to_categorical(np.random.randint(10,size=(100,1)),num_classes=10)\n",
    "\n",
    "model = Sequential()\n",
    "model.add(Dense(64,activation=\"relu\",input_dim=20))\n",
    "model.add(Dropout(0.5))\n",
    "model.add(Dense(64,activation=\"relu\"))\n",
    "model.add(Dropout(0.5))\n",
    "model.add(Dense(10,activation=\"softmax\"))\n",
    "\n",
    "sgd=SGD(lr=0.01,momentum=0.9,decay=1e-6,nesterov=True)\n",
    "model.compile(optimizer=sgd,loss=\"categorical_crossentropy\",metrics=['accuracy'])\n",
    "model.summary()\n",
    "\n",
    "model.fit(x_train,y_train,epochs=100,batch_size=32)\n",
    "score=model.evaluate(x_test,y_test,batch_size=32)\n",
    "print(score)"
   ]
  },
  {
   "cell_type": "markdown",
   "metadata": {},
   "source": [
    "## MLP for binary classification:"
   ]
  },
  {
   "cell_type": "code",
   "execution_count": 20,
   "metadata": {},
   "outputs": [
    {
     "name": "stdout",
     "output_type": "stream",
     "text": [
      "Epoch 1/20\n",
      "1000/1000 [==============================] - 0s - loss: 0.7202 - acc: 0.4870     \n",
      "Epoch 2/20\n",
      "1000/1000 [==============================] - 0s - loss: 0.7092 - acc: 0.5040     \n",
      "Epoch 3/20\n",
      "1000/1000 [==============================] - 0s - loss: 0.7052 - acc: 0.4950     \n",
      "Epoch 4/20\n",
      "1000/1000 [==============================] - 0s - loss: 0.7036 - acc: 0.5090     \n",
      "Epoch 5/20\n",
      "1000/1000 [==============================] - 0s - loss: 0.6895 - acc: 0.5330     \n",
      "Epoch 6/20\n",
      "1000/1000 [==============================] - 0s - loss: 0.6953 - acc: 0.5240     \n",
      "Epoch 7/20\n",
      "1000/1000 [==============================] - 0s - loss: 0.6935 - acc: 0.5200     \n",
      "Epoch 8/20\n",
      "1000/1000 [==============================] - 0s - loss: 0.6948 - acc: 0.5180     \n",
      "Epoch 9/20\n",
      "1000/1000 [==============================] - 0s - loss: 0.6969 - acc: 0.5010     \n",
      "Epoch 10/20\n",
      "1000/1000 [==============================] - 0s - loss: 0.7022 - acc: 0.5020     \n",
      "Epoch 11/20\n",
      "1000/1000 [==============================] - 0s - loss: 0.6954 - acc: 0.5010     \n",
      "Epoch 12/20\n",
      "1000/1000 [==============================] - 0s - loss: 0.6863 - acc: 0.5480     \n",
      "Epoch 13/20\n",
      "1000/1000 [==============================] - 0s - loss: 0.6941 - acc: 0.5200     \n",
      "Epoch 14/20\n",
      "1000/1000 [==============================] - 0s - loss: 0.6948 - acc: 0.5440     \n",
      "Epoch 15/20\n",
      "1000/1000 [==============================] - 0s - loss: 0.6912 - acc: 0.5130     \n",
      "Epoch 16/20\n",
      "1000/1000 [==============================] - 0s - loss: 0.6910 - acc: 0.5340     \n",
      "Epoch 17/20\n",
      "1000/1000 [==============================] - 0s - loss: 0.6883 - acc: 0.5360     \n",
      "Epoch 18/20\n",
      "1000/1000 [==============================] - 0s - loss: 0.6861 - acc: 0.5230     \n",
      "Epoch 19/20\n",
      "1000/1000 [==============================] - 0s - loss: 0.6876 - acc: 0.5520     \n",
      "Epoch 20/20\n",
      "1000/1000 [==============================] - 0s - loss: 0.6858 - acc: 0.5600     \n",
      "100/100 [==============================] - 0s\n"
     ]
    }
   ],
   "source": [
    "x_train = np.random.random((1000, 20))\n",
    "y_train = np.random.randint(2, size=(1000, 1))\n",
    "x_test = np.random.random((100, 20))\n",
    "y_test = np.random.randint(2, size=(100, 1))\n",
    "\n",
    "model = Sequential()\n",
    "model.add(Dense(64, input_dim=20, activation='relu'))\n",
    "model.add(Dropout(0.5))\n",
    "model.add(Dense(64, activation='relu'))\n",
    "model.add(Dropout(0.5))\n",
    "model.add(Dense(1, activation='sigmoid'))\n",
    "\n",
    "model.compile(loss='binary_crossentropy',\n",
    "              optimizer='rmsprop',\n",
    "              metrics=['accuracy'])\n",
    "\n",
    "model.fit(x_train, y_train,\n",
    "          epochs=20,\n",
    "          batch_size=128)\n",
    "score = model.evaluate(x_test, y_test, batch_size=128)"
   ]
  },
  {
   "cell_type": "markdown",
   "metadata": {},
   "source": [
    "## VGG Like ConvNet"
   ]
  },
  {
   "cell_type": "code",
   "execution_count": 21,
   "metadata": {},
   "outputs": [
    {
     "name": "stdout",
     "output_type": "stream",
     "text": [
      "Epoch 1/10\n",
      "100/100 [==============================] - 15s - loss: 2.3969 - acc: 0.1000    \n",
      "Epoch 2/10\n",
      "100/100 [==============================] - 16s - loss: 2.2723 - acc: 0.1300    \n",
      "Epoch 3/10\n",
      "100/100 [==============================] - 17s - loss: 2.2819 - acc: 0.1500    \n",
      "Epoch 4/10\n",
      "100/100 [==============================] - 15s - loss: 2.2808 - acc: 0.1200    \n",
      "Epoch 5/10\n",
      "100/100 [==============================] - 16s - loss: 2.2884 - acc: 0.1000    \n",
      "Epoch 6/10\n",
      "100/100 [==============================] - 14s - loss: 2.2860 - acc: 0.0800    \n",
      "Epoch 7/10\n",
      "100/100 [==============================] - 14s - loss: 2.2643 - acc: 0.1600    \n",
      "Epoch 8/10\n",
      "100/100 [==============================] - 14s - loss: 2.2912 - acc: 0.1600    \n",
      "Epoch 9/10\n",
      "100/100 [==============================] - 14s - loss: 2.2662 - acc: 0.1500    \n",
      "Epoch 10/10\n",
      "100/100 [==============================] - 14s - loss: 2.2717 - acc: 0.1000    \n",
      "20/20 [==============================] - 1s\n"
     ]
    }
   ],
   "source": [
    "from keras.layers import Dense, Dropout, Flatten\n",
    "from keras.layers import Conv2D, MaxPooling2D\n",
    "from keras.optimizers import SGD\n",
    "\n",
    "# Generate dummy data\n",
    "x_train = np.random.random((100, 100, 100, 3))\n",
    "y_train = keras.utils.to_categorical(np.random.randint(10, size=(100, 1)), num_classes=10)\n",
    "x_test = np.random.random((20, 100, 100, 3))\n",
    "y_test = keras.utils.to_categorical(np.random.randint(10, size=(20, 1)), num_classes=10)\n",
    "\n",
    "model = Sequential()\n",
    "# input: 100x100 images with 3 channels -> (100, 100, 3) tensors.\n",
    "# this applies 32 convolution filters of size 3x3 each.\n",
    "model.add(Conv2D(32, (3, 3), activation='relu', input_shape=(100, 100, 3)))\n",
    "model.add(Conv2D(32, (3, 3), activation='relu'))\n",
    "model.add(MaxPooling2D(pool_size=(2, 2)))\n",
    "model.add(Dropout(0.25))\n",
    "\n",
    "model.add(Conv2D(64, (3, 3), activation='relu'))\n",
    "model.add(Conv2D(64, (3, 3), activation='relu'))\n",
    "model.add(MaxPooling2D(pool_size=(2, 2)))\n",
    "model.add(Dropout(0.25))\n",
    "\n",
    "model.add(Flatten())\n",
    "model.add(Dense(256, activation='relu'))\n",
    "model.add(Dropout(0.5))\n",
    "model.add(Dense(10, activation='softmax'))\n",
    "\n",
    "sgd = SGD(lr=0.01, decay=1e-6, momentum=0.9, nesterov=True)\n",
    "model.compile(loss='categorical_crossentropy', optimizer=sgd,metrics=['accuracy'])\n",
    "\n",
    "model.fit(x_train, y_train, batch_size=32, epochs=10)\n",
    "score = model.evaluate(x_test, y_test, batch_size=32)"
   ]
  },
  {
   "cell_type": "code",
   "execution_count": 22,
   "metadata": {},
   "outputs": [
    {
     "data": {
      "text/plain": [
       "[2.3241255283355713, 0.05000000074505806]"
      ]
     },
     "execution_count": 22,
     "metadata": {},
     "output_type": "execute_result"
    }
   ],
   "source": [
    "score"
   ]
  },
  {
   "cell_type": "markdown",
   "metadata": {},
   "source": [
    "## Stacked LSTM for sequence classification"
   ]
  },
  {
   "cell_type": "code",
   "execution_count": 23,
   "metadata": {},
   "outputs": [
    {
     "name": "stdout",
     "output_type": "stream",
     "text": [
      "Train on 1000 samples, validate on 100 samples\n",
      "Epoch 1/5\n",
      "1000/1000 [==============================] - 3s - loss: 11.6009 - acc: 0.0930 - val_loss: 11.6610 - val_acc: 0.08\n",
      "Epoch 2/5\n",
      "1000/1000 [==============================] - 0s - loss: 11.5985 - acc: 0.0990 - val_loss: 11.6605 - val_acc: 0.110\n",
      "Epoch 3/5\n",
      "1000/1000 [==============================] - 0s - loss: 11.5983 - acc: 0.0750 - val_loss: 11.6597 - val_acc: 0.100 - ETA: 0s - loss: 11.6008 - acc: 0.08\n",
      "Epoch 4/5\n",
      "1000/1000 [==============================] - 0s - loss: 11.5981 - acc: 0.0960 - val_loss: 11.6618 - val_acc: 0.110\n",
      "Epoch 5/5\n",
      "1000/1000 [==============================] - 0s - loss: 11.5973 - acc: 0.1130 - val_loss: 11.6603 - val_acc: 0.100\n"
     ]
    },
    {
     "data": {
      "text/plain": [
       "<keras.callbacks.History at 0x278bd7218d0>"
      ]
     },
     "execution_count": 23,
     "metadata": {},
     "output_type": "execute_result"
    }
   ],
   "source": [
    "from keras.models import Sequential\n",
    "from keras.layers import LSTM, Dense\n",
    "import numpy as np\n",
    "\n",
    "data_dim = 16\n",
    "timesteps = 8\n",
    "num_classes = 10\n",
    "\n",
    "# expected input data shape: (batch_size, timesteps, data_dim)\n",
    "model = Sequential()\n",
    "model.add(LSTM(32, return_sequences=True,\n",
    "               input_shape=(timesteps, data_dim)))  # returns a sequence of vectors of dimension 32\n",
    "model.add(LSTM(32, return_sequences=True))  # returns a sequence of vectors of dimension 32\n",
    "model.add(LSTM(32))  # return a single vector of dimension 32\n",
    "model.add(Dense(10, activation='softmax'))\n",
    "\n",
    "model.compile(loss='categorical_crossentropy',\n",
    "              optimizer='rmsprop',\n",
    "              metrics=['accuracy'])\n",
    "\n",
    "# Generate dummy training data\n",
    "x_train = np.random.random((1000, timesteps, data_dim))\n",
    "y_train = np.random.random((1000, num_classes))\n",
    "\n",
    "# Generate dummy validation data\n",
    "x_val = np.random.random((100, timesteps, data_dim))\n",
    "y_val = np.random.random((100, num_classes))\n",
    "\n",
    "model.fit(x_train, y_train,\n",
    "          batch_size=64, epochs=5,\n",
    "          validation_data=(x_val, y_val))"
   ]
  },
  {
   "cell_type": "markdown",
   "metadata": {},
   "source": [
    "## Same stacked LSTM model, rendered \"stateful\""
   ]
  },
  {
   "cell_type": "code",
   "execution_count": 24,
   "metadata": {},
   "outputs": [
    {
     "name": "stdout",
     "output_type": "stream",
     "text": [
      "Train on 320 samples, validate on 96 samples\n",
      "Epoch 1/5\n",
      "320/320 [==============================] - 2s - loss: 11.4818 - acc: 0.1094 - val_loss: 11.5566 - val_acc: 0.062\n",
      "Epoch 2/5\n",
      "320/320 [==============================] - 0s - loss: 11.4762 - acc: 0.1094 - val_loss: 11.5563 - val_acc: 0.062\n",
      "Epoch 3/5\n",
      "320/320 [==============================] - 0s - loss: 11.4752 - acc: 0.1062 - val_loss: 11.5562 - val_acc: 0.062\n",
      "Epoch 4/5\n",
      "320/320 [==============================] - 0s - loss: 11.4745 - acc: 0.0969 - val_loss: 11.5561 - val_acc: 0.072\n",
      "Epoch 5/5\n",
      "320/320 [==============================] - 0s - loss: 11.4737 - acc: 0.1062 - val_loss: 11.5561 - val_acc: 0.072\n"
     ]
    },
    {
     "data": {
      "text/plain": [
       "<keras.callbacks.History at 0x278cccf4f98>"
      ]
     },
     "execution_count": 24,
     "metadata": {},
     "output_type": "execute_result"
    }
   ],
   "source": [
    "from keras.models import Sequential\n",
    "from keras.layers import LSTM, Dense\n",
    "import numpy as np\n",
    "\n",
    "data_dim = 16\n",
    "timesteps = 8\n",
    "num_classes = 10\n",
    "batch_size = 32\n",
    "\n",
    "# Expected input batch shape: (batch_size, timesteps, data_dim)\n",
    "# Note that we have to provide the full batch_input_shape since the network is stateful.\n",
    "# the sample of index i in batch k is the follow-up for the sample i in batch k-1.\n",
    "model = Sequential()\n",
    "model.add(LSTM(32, return_sequences=True, stateful=True,\n",
    "               batch_input_shape=(batch_size, timesteps, data_dim)))\n",
    "model.add(LSTM(32, return_sequences=True, stateful=True))\n",
    "model.add(LSTM(32, stateful=True))\n",
    "model.add(Dense(10, activation='softmax'))\n",
    "\n",
    "model.compile(loss='categorical_crossentropy',\n",
    "              optimizer='rmsprop',\n",
    "              metrics=['accuracy'])\n",
    "\n",
    "# Generate dummy training data\n",
    "x_train = np.random.random((batch_size * 10, timesteps, data_dim))\n",
    "y_train = np.random.random((batch_size * 10, num_classes))\n",
    "\n",
    "# Generate dummy validation data\n",
    "x_val = np.random.random((batch_size * 3, timesteps, data_dim))\n",
    "y_val = np.random.random((batch_size * 3, num_classes))\n",
    "\n",
    "model.fit(x_train, y_train,\n",
    "          batch_size=batch_size, epochs=5, shuffle=False,\n",
    "          validation_data=(x_val, y_val))"
   ]
  }
 ],
 "metadata": {
  "kernelspec": {
   "display_name": "Python [conda env:tensorflow]",
   "language": "python",
   "name": "conda-env-tensorflow-py"
  },
  "language_info": {
   "codemirror_mode": {
    "name": "ipython",
    "version": 3
   },
   "file_extension": ".py",
   "mimetype": "text/x-python",
   "name": "python",
   "nbconvert_exporter": "python",
   "pygments_lexer": "ipython3",
   "version": "3.5.3"
  }
 },
 "nbformat": 4,
 "nbformat_minor": 2
}
