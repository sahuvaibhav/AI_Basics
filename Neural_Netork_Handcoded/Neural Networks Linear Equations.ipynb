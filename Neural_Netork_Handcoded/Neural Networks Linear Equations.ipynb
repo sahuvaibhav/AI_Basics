{
 "cells": [
  {
   "cell_type": "code",
   "execution_count": 28,
   "metadata": {},
   "outputs": [],
   "source": [
    "import numpy as np\n",
    "import pandas as pd\n",
    "%matplotlib inline\n",
    "import matplotlib.pyplot as plt"
   ]
  },
  {
   "cell_type": "markdown",
   "metadata": {},
   "source": [
    "## Basic Perceptron\n",
    "Below code reprsents working of a perceptron (with 1 Nueron) using **Gradient Descent Algorithm**.\n",
    "\n",
    "<img src=\"Basic_Preceptron.png\">"
   ]
  },
  {
   "cell_type": "markdown",
   "metadata": {},
   "source": [
    "## Gradient Descent Explained (Maths)\n",
    "### Simple Linear Equation\n",
    "\n",
    "$\\hat{y} = w_1x_1 + w_2x_2$\n",
    "\n",
    "### Cost\n",
    "\n",
    "$C = \\frac{1}{2}(y - \\hat{y})^2$\n",
    "\n",
    "$C = \\frac{1}{2}(y - w_1x_1 - w_2x_2)^2$\n",
    "\n",
    "### Getting Gradients\n",
    "$\\frac{dC}{dw_1} = \\frac{1}{2}*2(y - w_1x_1 - w_2x_2)(-x_1) $\n",
    "\n",
    "$\\frac{dC}{dw_2} = \\frac{1}{2}*2(y - w_1x_1 - w_2x_2)(-x_2) $\n",
    "### Updating weights\n",
    "$w_1 \\to w_1 - lr*\\frac{dC}{dw_1} $  where : lr is learning rate or step size\n",
    "\n",
    "$w_2 \\to w_2 - lr*\\frac{dC}{dw_2}$\n",
    "\n",
    "### Calculate new $\\hat{y}$ using new weights\n",
    "$\\hat{y} = w_1x_1 + w_2x_2$\n",
    "\n",
    "**Repeat the above process till we reach global minima of cost function i.e. minimum cost.**\n"
   ]
  },
  {
   "cell_type": "markdown",
   "metadata": {},
   "source": [
    "## Basic Neuron - solve single equation\n",
    "\n",
    "Below is toy model working to solve 1 equation. Single equation can have infinite solutions. The below model acheive 1 solution by achieving lowest cost.\n",
    "\n",
    "Solutions will change based on initial value of weights. \n",
    "\n",
    "Try changin initial weights and see if you get different solutions."
   ]
  },
  {
   "cell_type": "code",
   "execution_count": 99,
   "metadata": {},
   "outputs": [],
   "source": [
    "def nn(x,y,w1,w2,lr,n_epochs):\n",
    "    cost_list = []\n",
    "    for epoch in range(n_epochs):\n",
    "        dydw1 = 2*(y-x[0]*w1-x[1]*w2)*(-x[0]) # or dydw1 = 2*(y-np.dot(x,w))*(-x[0]) \n",
    "        dydw2 = 2*(y-x[0]*w1-x[1]*w2)*(-x[1]) # or dydw1 = 2*(y-np.dot(x,w))*(-x[1]) \n",
    "        w1 = w1 - lr*dydw1\n",
    "        w2 = w2 - lr*dydw2\n",
    "        w = [[w1],[w2]]\n",
    "        y_hat = np.dot(x,w)\n",
    "        cost = (y - y_hat)**2\n",
    "        cost_list.append([w1,w2,cost[0]])\n",
    "        print(\"epoch :{:d} w1 :{:f} w2 :{:f} cost:{:f}\".format(epoch,w1,w2,cost[0]))\n",
    "        if cost <= 0.001:\n",
    "            break\n",
    "\n",
    "    cost_list = pd.DataFrame(cost_list,columns=['w1','w2','cost'])\n",
    "    return w1,w2,cost_list"
   ]
  },
  {
   "cell_type": "code",
   "execution_count": 100,
   "metadata": {},
   "outputs": [
    {
     "name": "stdout",
     "output_type": "stream",
     "text": [
      "epoch :0 w1 :1.980000 w2 :6.280000 cost:230.432400\n",
      "epoch :1 w1 :1.069200 w2 :3.851200 cost:48.759496\n",
      "epoch :2 w1 :1.488168 w2 :4.968448 cost:10.317509\n",
      "epoch :3 w1 :1.295443 w2 :4.454514 cost:2.183185\n",
      "epoch :4 w1 :1.384096 w2 :4.690924 cost:0.461962\n",
      "epoch :5 w1 :1.343316 w2 :4.582175 cost:0.097751\n",
      "epoch :6 w1 :1.362075 w2 :4.632199 cost:0.020684\n",
      "epoch :7 w1 :1.353446 w2 :4.609188 cost:0.004377\n",
      "epoch :8 w1 :1.357415 w2 :4.619773 cost:0.000926\n",
      "[ 41.03043228]\n"
     ]
    }
   ],
   "source": [
    "x = [3,8]   \n",
    "y = 41\n",
    "w1_init = 0\n",
    "w2_init = 1\n",
    "lr = 0.01\n",
    "n_epochs = 100\n",
    "w1,w2,cost_list = nn(x,y,w1_init,w2_init,lr,n_epochs)\n",
    "w = [[w1],[w2]]\n",
    "print(np.dot(x,w))"
   ]
  },
  {
   "cell_type": "code",
   "execution_count": 91,
   "metadata": {},
   "outputs": [
    {
     "data": {
      "text/plain": [
       "<matplotlib.text.Text at 0xdb44d30>"
      ]
     },
     "execution_count": 91,
     "metadata": {},
     "output_type": "execute_result"
    },
    {
     "data": {
      "image/png": "[encoded data removed]",
      "text/plain": [
       "<matplotlib.figure.Figure at 0xdb17f60>"
      ]
     },
     "metadata": {},
     "output_type": "display_data"
    }
   ],
   "source": [
    "plt.plot(cost_list.cost)\n",
    "plt.title(\"cost plot\")\n",
    "plt.xlabel(\"epcoh\")\n",
    "plt.ylabel(\"cost\")"
   ]
  },
  {
   "cell_type": "markdown",
   "metadata": {},
   "source": [
    "## Basic Neuron - solve 2 equations\n",
    "\n",
    "Below model solves two equations. You are sure to get a solution if equations are not parallel. \n",
    "\n",
    "Try changing equations and get solutions. \n",
    "\n",
    "*Note: Using some matrix operations*"
   ]
  },
  {
   "cell_type": "code",
   "execution_count": 91,
   "metadata": {},
   "outputs": [],
   "source": [
    "def nn_batch(x,y,w,lr,n_epoch):\n",
    "    cost_list = []\n",
    "    y_hat = np.dot(x,w)  # calculate y_hat for first iteration\n",
    "    for epoch in range(100):\n",
    "        dcostdw1 = 2*0.5*np.dot(-x[:,0],(y-y_hat))  # matrix multiplication of dcostdw1 = [-x1,-x3] (1x2) * [[y1-y_hat1],[y2-y_hat2]] (2x1) \n",
    "        dcostdw2 = 2*0.5*np.dot(-x[:,1],(y-y_hat))  # matrix multiplication of dcostdw2 = [-x2,-x4] (1x2) * [[y1-y_hat1],[y2-y_hat2]] (2x1) \n",
    "        w = w - [[lr*dcostdw1[0]],\n",
    "                 [lr*dcostdw2[0]]]    # w = w (2x1) - dcostdw (2x1)\n",
    "        y_hat = np.dot(x,w)   # calculate new y_hat using new weights after above steps\n",
    "        cost = 0.5*np.sum((y - y_hat)**2)  # calculate new cost \n",
    "        if epoch%20 ==0:\n",
    "            print(\"epoch :{:d} w1 :{:f} w2 :{:f} cost:{:f}\".format(epoch,w[0][0],w[1][0],cost))\n",
    "        cost_list.append([epoch,cost])\n",
    "        if cost <= 0.0001:\n",
    "            break\n",
    "\n",
    "    cost_list = pd.DataFrame(cost_list,columns=['epoch','cost'])\n",
    "    return w,cost_list\n"
   ]
  },
  {
   "cell_type": "markdown",
   "metadata": {},
   "source": [
    "### Solving below equations\n",
    "\\begin{align}\n",
    "41 = 3a + 8b\n",
    "\\end{align}\n",
    "\\begin{align}\n",
    "58 = 10a + 7b\n",
    "\\end{align}\n",
    "\n",
    "Try using other equations"
   ]
  },
  {
   "cell_type": "code",
   "execution_count": 92,
   "metadata": {},
   "outputs": [
    {
     "name": "stdout",
     "output_type": "stream",
     "text": [
      "epoch :0 w1 :1.500000 w2 :1.527000 cost:816.856688\n",
      "epoch :20 w1 :3.313861 w2 :3.652681 cost:1.937421\n",
      "epoch :40 w1 :3.236858 w2 :3.767721 cost:0.934306\n",
      "epoch :60 w1 :3.168311 w2 :3.835227 cost:0.470979\n",
      "epoch :80 w1 :3.119503 w2 :3.883013 cost:0.237421\n",
      "y_hat_final:\n",
      "[[ 40.58297367]\n",
      " [ 58.27165518]]\n"
     ]
    }
   ],
   "source": [
    "x = np.array([[3,8],\n",
    "             [10,7]])\n",
    "y = np.array([[41],[58]])\n",
    "lr = 0.001\n",
    "w = np.ones((x.shape[1],1))\n",
    "lr = 0.001\n",
    "n_epoch=100\n",
    "\n",
    "w,cost_list = nn_batch(x,y,w,lr,n_epoch)\n",
    "print \"y_hat_final:\\n{:s}\".format(np.dot(x,w))"
   ]
  },
  {
   "cell_type": "markdown",
   "metadata": {},
   "source": [
    "### Plot cost wrt epochs\n",
    "cost goes down with each epoch "
   ]
  },
  {
   "cell_type": "code",
   "execution_count": 93,
   "metadata": {},
   "outputs": [
    {
     "data": {
      "text/plain": [
       "<matplotlib.text.Text at 0xc1cb5c0>"
      ]
     },
     "execution_count": 93,
     "metadata": {},
     "output_type": "execute_result"
    },
    {
     "data": {
      "image/png": "[encoded data removed]",
      "text/plain": [
       "<matplotlib.figure.Figure at 0xc364be0>"
      ]
     },
     "metadata": {},
     "output_type": "display_data"
    }
   ],
   "source": [
    "plt.plot(cost_list.cost)\n",
    "plt.title(\"cost plot\")\n",
    "plt.xlabel(\"epcoh\")\n",
    "plt.ylabel(\"cost\")"
   ]
  },
  {
   "cell_type": "markdown",
   "metadata": {},
   "source": [
    "## Basic Neuron - solve multiple equations\n",
    "\n",
    "Below is the generalized model for solving any number of equations. \n",
    "\n",
    "Try changing the number of observations (**# of rows**) in x as well as number of variables (**# of columns**) and see if you get a soluton.\n",
    "\n",
    "Also if error is increasing with each epoc reduce the learning rate. if error decreases but does not get reach below your threshold increase the number  of epochs (**n_epochs**)."
   ]
  },
  {
   "cell_type": "code",
   "execution_count": 82,
   "metadata": {},
   "outputs": [],
   "source": [
    "def nn_batch_generalized(x,y,w,lr,n_epoch):\n",
    "    cost_list = []  # initialize list to store epochs and cost\n",
    "    y_hat = np.dot(x,w)  # calculate y_hat for first iteration\n",
    "    for epoch in range(n_epoch):  \n",
    "        dcostdw = 2*0.5*np.dot(-x.T,(y-y_hat))   # notice change from previous function \"nn_batch\". \n",
    "                                                #  Matrix multiplication dcostdw (3x1) = tranpose(X) (3x4)  * (y - y_hat) (4x1) \n",
    "                                                # above matrix shapes correspond to below example. for other example shapes may change but this function will work withput any changes needed.\n",
    "        w = w - lr*dcostdw  # w new (3x1) = w (3x1) - dcostdw (3x1)\n",
    "        y_hat = np.dot(x,w) # calculate new y_hat using new weights after above steps\n",
    "        cost = 0.5*np.sum((y - y_hat)**2)  # calculate new cost\n",
    "        cost_list.append([epoch,cost])\n",
    "        if epoch%1000==0:\n",
    "            print(\"epoch :{:d} cost:{:f}\".format(epoch,cost))\n",
    "        if cost <= 0.001:\n",
    "            print(\"epoch :{:d} cost:{:f}\".format(epoch,cost))\n",
    "            break\n",
    "\n",
    "    cost_list = pd.DataFrame(cost_list,columns=['epoch','cost'])\n",
    "    return w,cost_list"
   ]
  },
  {
   "cell_type": "code",
   "execution_count": 96,
   "metadata": {},
   "outputs": [
    {
     "name": "stdout",
     "output_type": "stream",
     "text": [
      "epoch :0 cost:2794.385632\n",
      "epoch :1000 cost:0.014568\n",
      "epoch :1360 cost:0.000995\n",
      "y_hat_final:\n",
      "[[ 50.98717107]\n",
      " [ 60.00645076]\n",
      " [ 56.98719395]\n",
      " [ 85.00357432]\n",
      " [ 22.02474432]]\n",
      "trained weights :\n",
      "[[ 3.00420485]\n",
      " [ 3.99435018]\n",
      " [ 1.00197551]]\n"
     ]
    }
   ],
   "source": [
    "x = np.array([[3,8,10],\n",
    "             [10,7,2],\n",
    "             [2,9,15],\n",
    "             [1,12,34],\n",
    "             [3,1,9]])\n",
    "y = [[51],[60],[57],[85],[22]]\n",
    "w = np.ones((x.shape[1],1))\n",
    "lr = 0.0001\n",
    "n_epoch=10000\n",
    "w,cost_list = nn_batch_generalized(x,y,w,lr,n_epoch)\n",
    "print \"y_hat_final:\\n{:s}\".format(np.dot(x,w))\n",
    "print \"trained weights :\\n{:s}\".format(w)"
   ]
  },
  {
   "cell_type": "code",
   "execution_count": 101,
   "metadata": {},
   "outputs": [
    {
     "data": {
      "text/plain": [
       "<matplotlib.text.Text at 0xc1027f0>"
      ]
     },
     "execution_count": 101,
     "metadata": {},
     "output_type": "execute_result"
    },
    {
     "data": {
      "image/png": "[encoded data removed]",
      "text/plain": [
       "<matplotlib.figure.Figure at 0xcadb4e0>"
      ]
     },
     "metadata": {},
     "output_type": "display_data"
    }
   ],
   "source": [
    "plt.plot(cost_list.cost)\n",
    "plt.title(\"cost plot\")\n",
    "plt.xlabel(\"epcoh\")\n",
    "plt.ylabel(\"cost\")"
   ]
  }
 ],
 "metadata": {
  "kernelspec": {
   "display_name": "Python [default]",
   "language": "python",
   "name": "python2"
  },
  "language_info": {
   "codemirror_mode": {
    "name": "ipython",
    "version": 2
   },
   "file_extension": ".py",
   "mimetype": "text/x-python",
   "name": "python",
   "nbconvert_exporter": "python",
   "pygments_lexer": "ipython2",
   "version": "2.7.13"
  }
 },
 "nbformat": 4,
 "nbformat_minor": 2
}
