{
 "cells": [
  {
   "cell_type": "code",
   "execution_count": 1,
   "metadata": {},
   "outputs": [],
   "source": [
    "import numpy as np\n",
    "import pandas as pd"
   ]
  },
  {
   "cell_type": "markdown",
   "metadata": {},
   "source": [
    "## Back-Propagation in Multi-Neuron 1 layer network"
   ]
  },
  {
   "cell_type": "code",
   "execution_count": 86,
   "metadata": {},
   "outputs": [],
   "source": [
    "def nn_generalized_multi(x,y,wh,wo,lr,n_epoch):\n",
    "    y_h = np.dot(x,wh)\n",
    "    y_hat = np.dot(y_h,wo)\n",
    "    for epoch in range(n_epoch):\n",
    "        dcostdwo = 2*np.dot(-y_h.T,(y-y_hat))\n",
    "        dcostdwh = 2*np.dot(np.dot(-x.T,(y-y_hat)),wo.T)\n",
    "        wo = wo - lr*dcostdwo\n",
    "        wh = wh - lr*dcostdwh\n",
    "        y_h = np.dot(x,wh)\n",
    "        y_hat = np.dot(y_h,wo)\n",
    "        cost = np.sum((y-y_hat)**2)\n",
    "        if epoch%1000==0:\n",
    "            print(\"epoch :{:d} cost:{:f}\".format(epoch,cost))\n",
    "        if cost <= 0.001:\n",
    "            print(\"epoch :{:d} cost:{:f}\".format(epoch,cost))\n",
    "            break\n",
    "    return wh,wo"
   ]
  },
  {
   "cell_type": "code",
   "execution_count": 87,
   "metadata": {},
   "outputs": [
    {
     "name": "stdout",
     "output_type": "stream",
     "text": [
      "epoch :0 cost:3081.635879\n",
      "epoch :1000 cost:3.361895\n",
      "epoch :2000 cost:0.156998\n",
      "epoch :3000 cost:0.006833\n",
      "epoch :3611 cost:0.000997\n",
      "y_hat_final:\n",
      "[[ 50.98748244]\n",
      " [ 60.00745208]\n",
      " [ 56.9873442 ]\n",
      " [ 85.00328881]\n",
      " [ 22.02478131]]\n"
     ]
    }
   ],
   "source": [
    "x = np.array([[3,8,10],\n",
    "             [10,7,2],\n",
    "             [2,9,15],\n",
    "             [1,12,34],\n",
    "             [3,1,9]])\n",
    "y = [[51],[60],[57],[85],[22]]\n",
    "h_size = 5\n",
    "o_size = 1\n",
    "wh = np.random.random((x.shape[1],h_size))\n",
    "wo = np.random.random((wh.shape[1],o_size))\n",
    "lr = 0.00001\n",
    "n_epoch=10000\n",
    "wh,wo = nn_generalized_multi(x,y,wh,wo,lr,n_epoch)\n",
    "print \"y_hat_final:\\n{:s}\".format(np.dot(np.dot(x,wh),wo))\n"
   ]
  },
  {
   "cell_type": "markdown",
   "metadata": {},
   "source": [
    "## Decouple forward and backward propagation"
   ]
  },
  {
   "cell_type": "code",
   "execution_count": 75,
   "metadata": {},
   "outputs": [],
   "source": [
    "def create_network(x,y,hidden_layer_size,output_layer_size):\n",
    "    weight_h = np.random.random((x.shape[1],hidden_layer_size))\n",
    "    weight_o = np.random.random((weight_h.shape[1],output_layer_size))\n",
    "    return weight_h,weight_o \n",
    "\n",
    "def forward_propagation(x,y,weight_h,weight_o):\n",
    "    y_h = np.dot(x,weight_h)\n",
    "    y_hat = np.dot(y_h,weight_o)\n",
    "    cost = 0.5*np.sum((y-y_hat)**2)\n",
    "    return y_h,y_hat,cost\n",
    "\n",
    "def backward_propagation(x,y,weight_h,weight_o,y_h,y_hat):\n",
    "    dcostdwo = np.dot(-y_h.T,(y-y_hat))\n",
    "    dcostdwh = np.dot(np.dot(-x.T,(y-y_hat)),weight_o.T)\n",
    "    weight_o = weight_o - lr*dcostdwo\n",
    "    weight_h = weight_h - lr*dcostdwh\n",
    "    return weight_h,weight_o\n",
    "\n",
    "def train_network(x,y,weight_h,weight_o,lr,n_epoch):\n",
    "    cost_list = []\n",
    "    for epoch in range(n_epoch):\n",
    "        y_h,y_hat,cost = forward_propagation(x,y,weight_h,weight_o)\n",
    "\n",
    "        if epoch%1000==0:\n",
    "            print(\"epoch :{:d} cost:{:f}\".format(epoch,cost))\n",
    "\n",
    "        if cost <= 0.001:\n",
    "            print(\"epoch :{:d} cost:{:f}\".format(epoch,cost))\n",
    "            break\n",
    "\n",
    "        weight_h,weight_o = backward_propagation(x,y,weight_h,weight_o,y_h,y_hat)\n",
    "        cost_list.append([epoch,cost])\n",
    "        cost_list = pd.DataFrame(cost_list,columns=['epoch','cost'])\n",
    "    return weight_h,weight_o,cost_list\n",
    "\n",
    "def predict(x,weight_h,weight_o):\n",
    "    y_h = np.dot(x,weight_h)\n",
    "    y_hat = np.dot(y_h,weight_o)\n",
    "    return y_hat"
   ]
  },
  {
   "cell_type": "code",
   "execution_count": null,
   "metadata": {},
   "outputs": [],
   "source": []
  },
  {
   "cell_type": "code",
   "execution_count": 88,
   "metadata": {},
   "outputs": [
    {
     "name": "stdout",
     "output_type": "stream",
     "text": [
      "epoch :0 cost:5340.079448\n",
      "epoch :1000 cost:0.002987\n",
      "epoch :1673 cost:0.000999\n",
      "y_hat_final:\n",
      "[[ 51.01757006]\n",
      " [ 59.98918462]\n",
      " [ 57.01777865]\n",
      " [ 84.99522464]\n",
      " [ 21.96487901]]\n"
     ]
    }
   ],
   "source": [
    "x = np.array([[3,8,10],\n",
    "             [10,7,2],\n",
    "             [2,9,15],\n",
    "             [1,12,34],\n",
    "             [3,1,9]])\n",
    "y = [[51],[60],[57],[85],[22]]\n",
    "\n",
    "hidden_layer_size = 2\n",
    "output_layer_size = 1\n",
    "\n",
    "weight_h,weight_o  = create_network(x,y,hidden_layer_size,output_layer_size) # Define network\n",
    "weight_h,weight_o,cost_list = train_network(x,y,weight_h,weight_o,lr,n_epoch) # train network\n",
    "y_pred = predict(x,weight_h,weight_o)    # predict\n",
    "print \"y_hat_final:\\n{:s}\".format(y_pred)"
   ]
  },
  {
   "cell_type": "code",
   "execution_count": 201,
   "metadata": {},
   "outputs": [],
   "source": [
    "layers = [2,2,1]\n",
    "def create_network(x,y,layers):\n",
    "    layers = [x.shape[1]] + layers\n",
    "    layers_weights = []\n",
    "    for layer in range(len(layers)-1):\n",
    "        weight = np.random.random((layers[layer],layers[layer+1]))\n",
    "        layers_weights.append(weight)\n",
    "    return layers_weights\n",
    "\n",
    "weights = create_network(x,y,layers)"
   ]
  },
  {
   "cell_type": "code",
   "execution_count": 207,
   "metadata": {},
   "outputs": [],
   "source": [
    "def forward_propagation(x,y,weights):\n",
    "    y_h = x\n",
    "    y_hats = []\n",
    "    for weight in weights:\n",
    "        y_h = np.dot(y_h,weight)\n",
    "        y_hats.append(y_h)\n",
    "    cost = 0.5*np.sum((y-y_hats[-1])**2)\n",
    "    return y_hats,cost\n",
    "\n",
    "y_hats,cost = forward_propagation(x,y,weights)"
   ]
  },
  {
   "cell_type": "code",
   "execution_count": 205,
   "metadata": {},
   "outputs": [
    {
     "name": "stdout",
     "output_type": "stream",
     "text": [
      "(3L, 2L)\n",
      "(2L, 2L)\n",
      "(2L, 1L)\n"
     ]
    }
   ],
   "source": [
    "\n",
    "for weight in weights:\n",
    "    print weight.shape"
   ]
  },
  {
   "cell_type": "code",
   "execution_count": 208,
   "metadata": {},
   "outputs": [
    {
     "name": "stdout",
     "output_type": "stream",
     "text": [
      "(5L, 3L)\n",
      "(5L, 2L)\n",
      "(5L, 2L)\n",
      "(5L, 1L)\n"
     ]
    }
   ],
   "source": [
    "y_hats = [x] + y_hats\n",
    "for y_hat in y_hats:\n",
    "    print y_hat.shape"
   ]
  },
  {
   "cell_type": "code",
   "execution_count": 210,
   "metadata": {},
   "outputs": [
    {
     "name": "stdout",
     "output_type": "stream",
     "text": [
      "(2L, 1L)\n",
      "(2L, 2L)\n",
      "(3L, 2L)\n",
      "/n\n",
      "(5L, 1L)\n",
      "(5L, 2L)\n",
      "(5L, 2L)\n",
      "(5L, 3L)\n"
     ]
    }
   ],
   "source": [
    "y_hats_reversed = list(reversed(y_hats))\n",
    "weights_reversed = list(reversed(weights))\n",
    "for w in weights_reversed:\n",
    "    print w.shape\n",
    "print \"/n\"\n",
    "for y in y_hats_reversed:\n",
    "    print y.shape"
   ]
  },
  {
   "cell_type": "code",
   "execution_count": 213,
   "metadata": {},
   "outputs": [],
   "source": [
    "def backward_propagation(x,y,weights,y_hats):\n",
    "    y_hats = [x] + y_hats\n",
    "    y_hats_reversed = list(reversed(y_hats))\n",
    "    weights_reversed = list(reversed(weights))\n",
    "    dcostdw_list = []\n",
    "    \n",
    "    dcostdw = np.dot(-y_hats_reversed[1].T,(y-y_hats_reversed[0]))\n",
    "    dcostdw_list.append(dcostdw)\n",
    "    weights_reversed[0] = weights_reversed[0] - dcostdw\n",
    "    for y_hat_index in range(1,len(y_hats_reversed)):\n",
    "        print y_hat_index\n",
    "        dcostdw = np.dot(np.dot(-y_hats_reversed[y_hat_index+1].T,(y-y_hats_reversed[0])),weights_reversed[y_hat_index+1].T)\n",
    "        dcostdw_list.append(dcostdw)\n",
    "        #weights_reversed[y_hat_index] = weights_reversed[y_hat_index] - lr*dcostdw\n",
    "#     dcostdwo = np.dot(-y_h.T,(y-y_hat))\n",
    "#     dcostdwh = np.dot(np.dot(-x.T,(y-y_hat)),weight_o.T)\n",
    "#     weight_o = weight_o - lr*dcostdwo\n",
    "#     weight_h = weight_h - lr*dcostdwh\n",
    "    weights = reversed(weights)\n",
    "    return weights"
   ]
  },
  {
   "cell_type": "code",
   "execution_count": 214,
   "metadata": {},
   "outputs": [
    {
     "name": "stdout",
     "output_type": "stream",
     "text": [
      "1\n"
     ]
    },
    {
     "ename": "ValueError",
     "evalue": "shapes (2,3) and (2,3) not aligned: 3 (dim 1) != 2 (dim 0)",
     "output_type": "error",
     "traceback": [
      "\u001b[0;31m---------------------------------------------------------------------------\u001b[0m",
      "\u001b[0;31mValueError\u001b[0m                                Traceback (most recent call last)",
      "\u001b[0;32m<ipython-input-214-c510a9365e1f>\u001b[0m in \u001b[0;36m<module>\u001b[0;34m()\u001b[0m\n\u001b[0;32m----> 1\u001b[0;31m \u001b[0mbackward_propagation\u001b[0m\u001b[1;33m(\u001b[0m\u001b[0mx\u001b[0m\u001b[1;33m,\u001b[0m\u001b[0my\u001b[0m\u001b[1;33m,\u001b[0m\u001b[0mweights\u001b[0m\u001b[1;33m,\u001b[0m\u001b[0my_hats\u001b[0m\u001b[1;33m)\u001b[0m\u001b[1;33m\u001b[0m\u001b[0m\n\u001b[0m",
      "\u001b[0;32m<ipython-input-213-90030f07d40c>\u001b[0m in \u001b[0;36mbackward_propagation\u001b[0;34m(x, y, weights, y_hats)\u001b[0m\n\u001b[1;32m     10\u001b[0m     \u001b[1;32mfor\u001b[0m \u001b[0my_hat_index\u001b[0m \u001b[1;32min\u001b[0m \u001b[0mrange\u001b[0m\u001b[1;33m(\u001b[0m\u001b[1;36m1\u001b[0m\u001b[1;33m,\u001b[0m\u001b[0mlen\u001b[0m\u001b[1;33m(\u001b[0m\u001b[0my_hats_reversed\u001b[0m\u001b[1;33m)\u001b[0m\u001b[1;33m)\u001b[0m\u001b[1;33m:\u001b[0m\u001b[1;33m\u001b[0m\u001b[0m\n\u001b[1;32m     11\u001b[0m         \u001b[1;32mprint\u001b[0m \u001b[0my_hat_index\u001b[0m\u001b[1;33m\u001b[0m\u001b[0m\n\u001b[0;32m---> 12\u001b[0;31m         \u001b[0mdcostdw\u001b[0m \u001b[1;33m=\u001b[0m \u001b[0mnp\u001b[0m\u001b[1;33m.\u001b[0m\u001b[0mdot\u001b[0m\u001b[1;33m(\u001b[0m\u001b[0mnp\u001b[0m\u001b[1;33m.\u001b[0m\u001b[0mdot\u001b[0m\u001b[1;33m(\u001b[0m\u001b[1;33m-\u001b[0m\u001b[0my_hats_reversed\u001b[0m\u001b[1;33m[\u001b[0m\u001b[0my_hat_index\u001b[0m\u001b[1;33m+\u001b[0m\u001b[1;36m1\u001b[0m\u001b[1;33m]\u001b[0m\u001b[1;33m.\u001b[0m\u001b[0mT\u001b[0m\u001b[1;33m,\u001b[0m\u001b[1;33m(\u001b[0m\u001b[0my\u001b[0m\u001b[1;33m-\u001b[0m\u001b[0my_hats_reversed\u001b[0m\u001b[1;33m[\u001b[0m\u001b[1;36m0\u001b[0m\u001b[1;33m]\u001b[0m\u001b[1;33m)\u001b[0m\u001b[1;33m)\u001b[0m\u001b[1;33m,\u001b[0m\u001b[0mweights_reversed\u001b[0m\u001b[1;33m[\u001b[0m\u001b[0my_hat_index\u001b[0m\u001b[1;33m+\u001b[0m\u001b[1;36m1\u001b[0m\u001b[1;33m]\u001b[0m\u001b[1;33m.\u001b[0m\u001b[0mT\u001b[0m\u001b[1;33m)\u001b[0m\u001b[1;33m\u001b[0m\u001b[0m\n\u001b[0m\u001b[1;32m     13\u001b[0m         \u001b[0mdcostdw_list\u001b[0m\u001b[1;33m.\u001b[0m\u001b[0mappend\u001b[0m\u001b[1;33m(\u001b[0m\u001b[0mdcostdw\u001b[0m\u001b[1;33m)\u001b[0m\u001b[1;33m\u001b[0m\u001b[0m\n\u001b[1;32m     14\u001b[0m         \u001b[1;31m#weights_reversed[y_hat_index] = weights_reversed[y_hat_index] - lr*dcostdw\u001b[0m\u001b[1;33m\u001b[0m\u001b[1;33m\u001b[0m\u001b[0m\n",
      "\u001b[0;31mValueError\u001b[0m: shapes (2,3) and (2,3) not aligned: 3 (dim 1) != 2 (dim 0)"
     ]
    }
   ],
   "source": [
    "backward_propagation(x,y,weights,y_hats)"
   ]
  }
 ],
 "metadata": {
  "kernelspec": {
   "display_name": "Python [default]",
   "language": "python",
   "name": "python2"
  },
  "language_info": {
   "codemirror_mode": {
    "name": "ipython",
    "version": 2
   },
   "file_extension": ".py",
   "mimetype": "text/x-python",
   "name": "python",
   "nbconvert_exporter": "python",
   "pygments_lexer": "ipython2",
   "version": "2.7.13"
  }
 },
 "nbformat": 4,
 "nbformat_minor": 2
}
